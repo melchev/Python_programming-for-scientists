{
 "cells": [
  {
   "cell_type": "markdown",
   "metadata": {
    "slideshow": {
     "slide_type": "slide"
    }
   },
   "source": [
    "# About the course\n",
    "\n",
    "This course was originally written by Thomas Robitaille, and was adapted by Markus Demleitner, Robert Schmidt, Yiannis Tsapras, Hans Ludwig, Mélanie Chevance and Andrea Romanelli.\n",
    "\n",
    "**The Uebungsgruppe-System link is [https://uebungen.physik.uni-heidelberg.de/uebungen/liste.php?vorl=2032](https://uebungen.physik.uni-heidelberg.de/uebungen/liste.php?vorl=2032).**\n",
    "\n",
    "The lecturer is Lise Ramambason, the tutor is Xinyue Liang.\n",
    "You can contact us during the course at [lise.ramambason@uni-heidelberg.de](mailto:lise.ramambason@uni-heidelberg.de?subject=[Python%20Course]) and [liangxy@uni-heidelberg.de](mailto:liangxy@uni-heidelberg.de?subject=[Python%20Course])\n"
   ]
  },
  {
   "cell_type": "markdown",
   "metadata": {
    "slideshow": {
     "slide_type": "slide"
    }
   },
   "source": [
    "Topics\n",
    "------\n",
    "\n",
    "- Using the IPython Notebook\n",
    "- Introduction to Python\n",
    "- Modules and Functions\n",
    "- Introduction to Numpy and Matplotlib\n",
    "- Reading/writing data from files\n",
    "- Introduction to Scipy (interpolation, integration, fitting)\n",
    "- Applying Python to scientific problems\n",
    "- Object-oriented programming and/or introduction to Pandas (*if there is time*)"
   ]
  },
  {
   "cell_type": "markdown",
   "metadata": {
    "slideshow": {
     "slide_type": "notes"
    }
   },
   "source": [
    "Structure\n",
    "---------\n",
    "\n",
    "The block course lasts five days. \n",
    "\n",
    "Each day will follow this schedule:\n",
    "\n",
    "* 9:00-10:30 - lecture/exercises\n",
    "* 10:30-11:00 - break\n",
    "* 11:00-12:30 - lecture/exercises\n",
    "* 12:30-13:30 - break for lunch\n",
    "* 13:30-14:30 - lecture/exercises\n",
    "* 14:30-17:00 - finish homework, tutor will remain available for questions\n",
    "\n",
    "The format is: Every now and then I'll explain stuff for all (lecture-like), but for the rest you will work through the material. I will then cycle through the room to see if there are problems. Don't hesitate to call me for help if needed\n",
    "\n",
    "There will be **problem sets** during the week, and you will be required to hand these in a deadline indicated on the problem sheet. An average of 60% in the problem sets will be required to obtain 2 credits points at the end of the course.\n",
    "\n",
    "The course will be in English."
   ]
  },
  {
   "cell_type": "markdown",
   "metadata": {
    "slideshow": {
     "slide_type": "slide"
    }
   },
   "source": [
    "Solutions to problem sheets\n",
    "---------------------------\n",
    "\n",
    "All solutions should be submitted as IPython (/Jupyter) notebooks (.ipynb) or python programs (.py) (one notebook/program per problem set). Please use a filename that contains the name of the problem sheet and your name. (e.g. `problem_sheet_1_firstname_surname.ipynb` ).\n",
    "\n",
    "The files should be entered in the **Uebungen System** (in case of problems, they can alternatively be submitted to us directly via email: [chevance@uni-heidelberg.de](mailto:chevance@uni-heidelberg.de?subject=[Python%20Course]%20Problem%20Sheet%20Submission) and [andrea.romanelli@uni-heidelberg.de](mailto:andrea.romanelli@uni-heidelberg.de?subject=[Python%20Course]%20Problem%20Sheet%20Submission)).\n",
    "\n",
    "The following criteria are taken into account for grading problem sets - the notebook/program should:\n",
    "\n",
    "- run with no errors *under python3*\n",
    "- produce the correct results\n",
    "- be clearly readable, and include text to explain what you are doing and why\n",
    "- not include any unused code! (-> readability)\n",
    "- be well presented\n",
    "\n",
    "Please make use of the ability to add comments and text around your code. Make it so that someone not familiar with the problem could read it and understand your solution."
   ]
  },
  {
   "cell_type": "markdown",
   "metadata": {
    "slideshow": {
     "slide_type": "slide"
    }
   },
   "source": [
    "**There is never a unique solution to a problem**, so it does not matter if your programs do not look the same as somebody else's! What matters most is that you get a chance to make mistakes and learn from them."
   ]
  },
  {
   "cell_type": "markdown",
   "metadata": {
    "slideshow": {
     "slide_type": "slide"
    }
   },
   "source": [
    "Policy on handing in solutions\n",
    "------------------------------\n",
    "\n",
    "**Problem set submissions need to be handed in separately for each participant.**\n",
    "\n",
    "The deadlines for the Problem Sets are:\n",
    "\n",
    "Problem Set 1       Thursday August 7, 7pm CEST\n",
    "\n",
    "Problem Set 2       Monday August 11, 7pm CEST\n",
    "\n",
    "Problem Set 3       Monday August 18, 7pm CEST\n",
    "\n"
   ]
  },
  {
   "cell_type": "markdown",
   "metadata": {
    "slideshow": {
     "slide_type": "slide"
    }
   },
   "source": [
    "Installing Python\n",
    "-------\n",
    "\n",
    "Given that the course is online, you will need to install Python on your laptop, you have several possibilities:\n",
    "\n",
    "- If you have a linux laptop and are familiar with package managers, most major scientific Python packages are available through these\n",
    "- Otherwise, try and install the [Anaconda Python distribution](https://www.anaconda.com/products/individual). An alternative link is [this install link](https://anaconda.org/anaconda/python).\n",
    "\n",
    "Using the Jupyter server of the Physics department:\n",
    "-----------\n",
    "Alternatively you can use the Jupyter server of the Physics department:\n",
    "\n",
    "[http://jupyter.kip.uni-heidelberg.de](http://jupyter.kip.uni-heidelberg.de)\n",
    "\n",
    "You log in with your student ID and password. If all went well, you see a kind of file browser. It shows your home directory _on the Jupiter server_. "
   ]
  },
  {
   "cell_type": "markdown",
   "metadata": {
    "slideshow": {
     "slide_type": "slide"
    }
   },
   "source": [
    "Lecture Notes & Notebooks\n",
    "-------\n",
    "\n",
    "The notebooks I'm showing the problem sets and the ancillary data files will be available at [https://github.com/melchev/Python_programming-for-scientists/](https://github.com/melchev/Python_programming-for-scientists/).\n",
    "\n",
    "You can open the individual files as we go along.\n",
    "\n",
    "Just refresh your notebook viewer after you've downloaded a file.\n"
   ]
  }
 ],
 "metadata": {
  "anaconda-cloud": {},
  "celltoolbar": "Slideshow",
  "kernelspec": {
   "display_name": "Python 3 (ipykernel)",
   "language": "python",
   "name": "python3"
  },
  "language_info": {
   "codemirror_mode": {
    "name": "ipython",
    "version": 3
   },
   "file_extension": ".py",
   "mimetype": "text/x-python",
   "name": "python",
   "nbconvert_exporter": "python",
   "pygments_lexer": "ipython3",
   "version": "3.9.13"
  }
 },
 "nbformat": 4,
 "nbformat_minor": 1
}
