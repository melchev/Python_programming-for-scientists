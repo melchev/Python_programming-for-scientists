{
 "cells": [
  {
   "cell_type": "markdown",
   "metadata": {
    "slideshow": {
     "slide_type": "slide"
    }
   },
   "source": [
    "# Python variables - behind the scenes"
   ]
  },
  {
   "cell_type": "markdown",
   "metadata": {
    "slideshow": {
     "slide_type": "slide"
    }
   },
   "source": [
    "We will now examine how Python stores objects in memory, and the link between variables and memory location. You might be wondering why you need to worry about this, but it is actually essential to understand this in order to make best use of Python's capabilities and avoid mistakes/bugs."
   ]
  },
  {
   "cell_type": "markdown",
   "metadata": {
    "slideshow": {
     "slide_type": "slide"
    }
   },
   "source": [
    "## Assignment and modification"
   ]
  },
  {
   "cell_type": "markdown",
   "metadata": {
    "slideshow": {
     "slide_type": "slide"
    }
   },
   "source": [
    "Consider the following two examples. First:"
   ]
  },
  {
   "cell_type": "code",
   "execution_count": 1,
   "metadata": {},
   "outputs": [
    {
     "name": "stdout",
     "output_type": "stream",
     "text": [
      "2 2\n"
     ]
    }
   ],
   "source": [
    "a = 2\n",
    "b = a\n",
    "print(a, b)"
   ]
  },
  {
   "cell_type": "code",
   "execution_count": 2,
   "metadata": {},
   "outputs": [
    {
     "name": "stdout",
     "output_type": "stream",
     "text": [
      "4 2\n"
     ]
    }
   ],
   "source": [
    "a = 4\n",
    "print(a, b)"
   ]
  },
  {
   "cell_type": "markdown",
   "metadata": {},
   "source": [
    "This should hopefully make sense so far."
   ]
  },
  {
   "cell_type": "markdown",
   "metadata": {
    "slideshow": {
     "slide_type": "slide"
    }
   },
   "source": [
    "Now consider the following example:   "
   ]
  },
  {
   "cell_type": "code",
   "execution_count": 3,
   "metadata": {},
   "outputs": [
    {
     "name": "stdout",
     "output_type": "stream",
     "text": [
      "[2, 3, 4, 5] [2, 3, 4, 5]\n"
     ]
    }
   ],
   "source": [
    "a = [2, 3, 4]\n",
    "b = a\n",
    "a.append(5)\n",
    "print(a, b)"
   ]
  },
  {
   "cell_type": "markdown",
   "metadata": {},
   "source": [
    "In this case, modifying ``a`` modified ``b`` too! This is not as intutitive... But if we do:"
   ]
  },
  {
   "cell_type": "code",
   "execution_count": 4,
   "metadata": {},
   "outputs": [
    {
     "name": "stdout",
     "output_type": "stream",
     "text": [
      "9 [2, 3, 4, 5]\n"
     ]
    }
   ],
   "source": [
    "a = 9\n",
    "print(a, b)"
   ]
  },
  {
   "cell_type": "markdown",
   "metadata": {},
   "source": [
    "This time, changing ``a`` did not change ``b`` - what is happening?"
   ]
  },
  {
   "cell_type": "markdown",
   "metadata": {
    "slideshow": {
     "slide_type": "slide"
    }
   },
   "source": [
    "The key is to understand that doing:\n",
    "    \n",
    "    variable = something\n",
    "    \n",
    "will change which object ``variable`` is pointing to in memory (**assignment**). On the other hand, when calling a method with:\n",
    "\n",
    "    variable.method()\n",
    "\n",
    "some (but not all) methods will modify the variable **in-place** (more information below)."
   ]
  },
  {
   "cell_type": "markdown",
   "metadata": {
    "slideshow": {
     "slide_type": "slide"
    }
   },
   "source": [
    "Let's go over the examples above but this time with a graphical representation, where the yellow circles show the **variables**, and the blue rectangles show the **objects in memory**. If we do:"
   ]
  },
  {
   "cell_type": "code",
   "execution_count": null,
   "metadata": {},
   "outputs": [],
   "source": [
    "a = 2\n",
    "b = a\n",
    "a = 4"
   ]
  },
  {
   "cell_type": "markdown",
   "metadata": {},
   "source": [
    "then what is happening is the following."
   ]
  },
  {
   "attachments": {
    "ex1_1.png": {
     "image/png": "[encoded data removed]"
    }
   },
   "cell_type": "markdown",
   "metadata": {
    "slideshow": {
     "slide_type": "slide"
    }
   },
   "source": [
    "First, when doing ``a = 2`` we create space in memory for the value ``2`` and we assign that location in memory to the variable ``a``:\n",
    "\n",
    "![ex1_1.png](attachment:ex1_1.png)"
   ]
  },
  {
   "attachments": {
    "ex1_2.png": {
     "image/png": "[encoded data removed]"
    }
   },
   "cell_type": "markdown",
   "metadata": {
    "slideshow": {
     "slide_type": "slide"
    }
   },
   "source": [
    "By doing ``b = a``, we are now assigning the variable ``b`` to point at the same object as ``a``:\n",
    "\n",
    "![ex1_2.png](attachment:ex1_2.png)"
   ]
  },
  {
   "attachments": {
    "ex1_3.png": {
     "image/png": "[encoded data removed]"
    }
   },
   "cell_type": "markdown",
   "metadata": {
    "slideshow": {
     "slide_type": "slide"
    }
   },
   "source": [
    "And finally by doing ``a = 4`` we re-assign ``a`` to point at a different place in memory (containing ``4``) but ``b`` still points at the same object (``2``):\n",
    "\n",
    "![ex1_3.png](attachment:ex1_3.png)"
   ]
  },
  {
   "cell_type": "markdown",
   "metadata": {
    "slideshow": {
     "slide_type": "slide"
    }
   },
   "source": [
    "Now if we follow the same logic for the second example:"
   ]
  },
  {
   "cell_type": "code",
   "execution_count": null,
   "metadata": {},
   "outputs": [],
   "source": [
    "a = [2, 3, 4]\n",
    "b = a\n",
    "a.append(5)"
   ]
  },
  {
   "attachments": {
    "ex2_1.png": {
     "image/png": "[encoded data removed]"
    }
   },
   "cell_type": "markdown",
   "metadata": {
    "slideshow": {
     "slide_type": "slide"
    }
   },
   "source": [
    "we again start off by creating space in memory for the list ``[2, 3, 4]``, then we point the variable ``a`` to that location.\n",
    "\n",
    "![ex2_1.png](attachment:ex2_1.png)"
   ]
  },
  {
   "attachments": {
    "ex2_2.png": {
     "image/png": "[encoded data removed]"
    }
   },
   "cell_type": "markdown",
   "metadata": {
    "slideshow": {
     "slide_type": "slide"
    }
   },
   "source": [
    "By doing ``b = a``, we then point ``b`` to the same location as ``a``, so **the list exists only once in memory** (this is very important):\n",
    "\n",
    "![ex2_2.png](attachment:ex2_2.png)"
   ]
  },
  {
   "attachments": {
    "ex2_3.png": {
     "image/png": "[encoded data removed]"
    }
   },
   "cell_type": "markdown",
   "metadata": {
    "slideshow": {
     "slide_type": "slide"
    }
   },
   "source": [
    "We now **modify, in-place,** the object that ``a`` is pointing to with ``a.append(5)`` - the concept of modifying the object is very important - we are not creating a new list, it is still in the same place in memory, even if it has one extra element now:\n",
    "\n",
    "![ex2_3.png](attachment:ex2_3.png)\n",
    "\n",
    "This means that since ``b`` is pointing to the same place in memory, it will also see a list with (now) four elements!"
   ]
  },
  {
   "attachments": {
    "ex2_4.png": {
     "image/png": "[encoded data removed]"
    }
   },
   "cell_type": "markdown",
   "metadata": {
    "slideshow": {
     "slide_type": "slide"
    }
   },
   "source": [
    "Then, if one does ``a = 9``, then one is not modifying the list, but instead assigning ``a`` to point to a region in memory with the value ``9``:\n",
    "\n",
    "![ex2_4.png](attachment:ex2_4.png)"
   ]
  },
  {
   "cell_type": "markdown",
   "metadata": {},
   "source": [
    "In order to talk about this behavior, we use the terms **copying** and **referencing**. When we do:\n",
    "\n",
    "    variable = something\n",
    "\n",
    "then the **value** is actually created when writing ``something``. The assignment merely creates a pointer (“reference” is just a fancy name for that) from a name to that value, and you could have more such names pointing to the same something."
   ]
  },
  {
   "cell_type": "markdown",
   "metadata": {
    "slideshow": {
     "slide_type": "slide"
    }
   },
   "source": [
    "Another important point is that what is on the right hand side will get evaluated first, and will (conceptually) result in the creation of a new object unless the ``something`` is a reference already (in which case ``variable`` and ``something`` will just refer to the same value.  In the following cases, ``something`` is a “literal” (i.e., the representation of a value in the source code), and a new value will be created:"
   ]
  },
  {
   "cell_type": "code",
   "execution_count": 5,
   "metadata": {},
   "outputs": [
    {
     "name": "stdout",
     "output_type": "stream",
     "text": [
      "2 3 6\n"
     ]
    }
   ],
   "source": [
    "a = 2\n",
    "b = a + 1\n",
    "c = b * 2\n",
    "print(a, b, c)"
   ]
  },
  {
   "cell_type": "markdown",
   "metadata": {},
   "source": [
    "In the second assignment in the following, ``something`` is a reference, and hence no new object is being created:"
   ]
  },
  {
   "cell_type": "code",
   "execution_count": 6,
   "metadata": {},
   "outputs": [],
   "source": [
    "a = [2,3,4]\n",
    "b = a  # b points to the same object than a"
   ]
  },
  {
   "cell_type": "markdown",
   "metadata": {},
   "source": [
    "In case you're uncertain at some point, there's python's built-in ``id`` function that tells you the identity (in memory) of its argument:"
   ]
  },
  {
   "cell_type": "code",
   "execution_count": 7,
   "metadata": {},
   "outputs": [
    {
     "data": {
      "text/plain": [
       "(140547734150272, 140547734150272, 140547436112336)"
      ]
     },
     "execution_count": 7,
     "metadata": {},
     "output_type": "execute_result"
    }
   ],
   "source": [
    "id(a), id(b), id(c)"
   ]
  },
  {
   "cell_type": "code",
   "execution_count": 9,
   "metadata": {},
   "outputs": [
    {
     "name": "stdout",
     "output_type": "stream",
     "text": [
      "140547734155328 140547734155328\n",
      "[1, 2, 3, 4] [1, 2, 3, 4]\n"
     ]
    },
    {
     "data": {
      "text/plain": [
       "(140547734155328, 140547734155328)"
      ]
     },
     "execution_count": 9,
     "metadata": {},
     "output_type": "execute_result"
    }
   ],
   "source": [
    "a = [1,2,3]\n",
    "b = a\n",
    "print(id(a), id(b))\n",
    "a.append(4)\n",
    "print(a,b)\n",
    "id(a), id(b)"
   ]
  },
  {
   "cell_type": "markdown",
   "metadata": {
    "slideshow": {
     "slide_type": "slide"
    }
   },
   "source": [
    "## Copying"
   ]
  },
  {
   "cell_type": "markdown",
   "metadata": {},
   "source": [
    "In some cases, the behavior described above is not desirable, and we want to make a true copy, not just a reference, *because we want to change* ``b`` *without changing* ``a``:"
   ]
  },
  {
   "cell_type": "code",
   "execution_count": 10,
   "metadata": {},
   "outputs": [
    {
     "name": "stdout",
     "output_type": "stream",
     "text": [
      "140547734148608 140547734158464\n",
      "[2, 3, 4, 5] [2, 3, 4]\n"
     ]
    }
   ],
   "source": [
    "from copy import deepcopy\n",
    "a = [2,3,4]\n",
    "b = deepcopy(a)\n",
    "print(id(a), id(b))\n",
    "a.append(5)\n",
    "print(a, b)"
   ]
  },
  {
   "cell_type": "markdown",
   "metadata": {},
   "source": [
    "The ``copy`` module contains a function ``copy``, too.  If you want to really understand what's going on, it will probably help to create a nested list (as in ``[[1,2,3], ['a', 'b', 'c']]``), copy that and manipulate the inner lists.\n",
    "\n",
    "Note that slicing (usually) creates a copy, too (careful with numpy arrays, though), which is why in quite a bit of source code you see slices when a copy is desired:"
   ]
  },
  {
   "cell_type": "code",
   "execution_count": 11,
   "metadata": {},
   "outputs": [
    {
     "name": "stdout",
     "output_type": "stream",
     "text": [
      "[1, 2, 3] [1, 2, 3]\n",
      "140547734149760 140547734148992\n"
     ]
    }
   ],
   "source": [
    "a = [1,2,3]\n",
    "b = a[:]\n",
    "print(a, b)\n",
    "print(id(a), id(b))"
   ]
  },
  {
   "cell_type": "markdown",
   "metadata": {
    "slideshow": {
     "slide_type": "slide"
    }
   },
   "source": [
    "## Methods"
   ]
  },
  {
   "cell_type": "markdown",
   "metadata": {},
   "source": [
    "As mentioned above, some *methods* modify object **in-place**:"
   ]
  },
  {
   "cell_type": "code",
   "execution_count": 12,
   "metadata": {},
   "outputs": [],
   "source": [
    "a = [1,2,3]\n",
    "a.append(5)  # modifies ``a``"
   ]
  },
  {
   "cell_type": "markdown",
   "metadata": {},
   "source": [
    "and some will return a copy rather than modifying the object."
   ]
  },
  {
   "cell_type": "code",
   "execution_count": 13,
   "metadata": {},
   "outputs": [
    {
     "name": "stdout",
     "output_type": "stream",
     "text": [
      "HELLO\n",
      "hello\n"
     ]
    }
   ],
   "source": [
    "s = 'hello'\n",
    "print(s.upper())  # returns a copy of the string in uppercase without modifying s\n",
    "print(s)"
   ]
  },
  {
   "cell_type": "markdown",
   "metadata": {},
   "source": [
    "It should be clear from the documentation (e.g. ``s.upper?``) how a particular method behaves."
   ]
  },
  {
   "cell_type": "code",
   "execution_count": 14,
   "metadata": {},
   "outputs": [],
   "source": [
    "s.upper?"
   ]
  },
  {
   "cell_type": "markdown",
   "metadata": {
    "slideshow": {
     "slide_type": "slide"
    }
   },
   "source": [
    "## Mutable vs immutable objects"
   ]
  },
  {
   "cell_type": "markdown",
   "metadata": {
    "slideshow": {
     "slide_type": "slide"
    }
   },
   "source": [
    "Some objects are **immutable**, which means that they cannot be modified - examples include ``float``, ``int``, ``str``. For instance, when doing:"
   ]
  },
  {
   "cell_type": "code",
   "execution_count": 15,
   "metadata": {},
   "outputs": [],
   "source": [
    "a = 1.\n",
    "a = 2. "
   ]
  },
  {
   "cell_type": "markdown",
   "metadata": {},
   "source": [
    "In the second line, a new location in memory is created for ``2.``, and ``a`` points at that object, not at ``1.`` (in other words, the float is not being changed, it is ``a`` that is pointing to a different object)."
   ]
  },
  {
   "cell_type": "markdown",
   "metadata": {
    "slideshow": {
     "slide_type": "slide"
    }
   },
   "source": [
    "On the other hand, ``list``, ``dict``, and Numpy arrays are **mutable**, which means the object can be modified:"
   ]
  },
  {
   "cell_type": "code",
   "execution_count": 17,
   "metadata": {},
   "outputs": [
    {
     "name": "stdout",
     "output_type": "stream",
     "text": [
      "[1, 2, 3, 5]\n"
     ]
    }
   ],
   "source": [
    "a = [1,2,3]\n",
    "a.append(5)\n",
    "print(a)"
   ]
  },
  {
   "cell_type": "markdown",
   "metadata": {},
   "source": [
    "After the second line, ``a`` still points at the same list, but the list has now been modified."
   ]
  },
  {
   "cell_type": "markdown",
   "metadata": {},
   "source": [
    "## Functions"
   ]
  },
  {
   "cell_type": "markdown",
   "metadata": {},
   "source": [
    "A final but important point is that when passing variables to functions, variables are passed as references, so:"
   ]
  },
  {
   "cell_type": "code",
   "execution_count": 18,
   "metadata": {},
   "outputs": [
    {
     "name": "stdout",
     "output_type": "stream",
     "text": [
      "value in the function: [1, 2, 1]\n",
      "[1, 2, 1]\n"
     ]
    }
   ],
   "source": [
    "def do(x):\n",
    "    x.append(1)\n",
    "    print(\"value in the function:\", x)\n",
    "    \n",
    "a = [1,2]\n",
    "do(a)\n",
    "print(a)"
   ]
  },
  {
   "cell_type": "markdown",
   "metadata": {},
   "source": [
    "The following, however, just changes the value ``x`` in ``do`` references and thus has no effect outside of ``do``:"
   ]
  },
  {
   "cell_type": "code",
   "execution_count": 19,
   "metadata": {},
   "outputs": [
    {
     "name": "stdout",
     "output_type": "stream",
     "text": [
      "value in the function: 0\n",
      "[1, 2]\n"
     ]
    }
   ],
   "source": [
    "def do(x):\n",
    "    x = 0  # re-assigns x to 0, but only in the function\n",
    "    print(\"value in the function:\", x)\n",
    "\n",
    "a = [1,2]\n",
    "do(a)\n",
    "print(a)"
   ]
  },
  {
   "cell_type": "markdown",
   "metadata": {
    "slideshow": {
     "slide_type": "slide"
    }
   },
   "source": [
    "## Copying and Referencing Numpy arrays"
   ]
  },
  {
   "cell_type": "markdown",
   "metadata": {
    "slideshow": {
     "slide_type": "slide"
    }
   },
   "source": [
    "With Numpy arrays, one has to be particularly careful with the copying/referencing distinction. With a few exceptions (and superficially contrary to the behaviour of almost all other python objects), most slicing/masking operations in Numpy indicate **references**, not copies, to the data:"
   ]
  },
  {
   "cell_type": "code",
   "execution_count": 20,
   "metadata": {},
   "outputs": [],
   "source": [
    "import numpy as np"
   ]
  },
  {
   "cell_type": "code",
   "execution_count": 21,
   "metadata": {},
   "outputs": [
    {
     "name": "stdout",
     "output_type": "stream",
     "text": [
      "[   0    1    2 -111    4    5    6    7    8    9]\n"
     ]
    }
   ],
   "source": [
    "x = np.arange(10)\n",
    "y = x\n",
    "y[3] = -111  # this also changes x\n",
    "print(x)"
   ]
  },
  {
   "cell_type": "markdown",
   "metadata": {
    "slideshow": {
     "slide_type": "slide"
    }
   },
   "source": [
    "This is similar to lists, but now consider the following:"
   ]
  },
  {
   "cell_type": "code",
   "execution_count": 22,
   "metadata": {},
   "outputs": [
    {
     "name": "stdout",
     "output_type": "stream",
     "text": [
      "x =  [0 1 2 3 4 5 6 7 8 9]\n",
      "y =  [0 2 4 6 8]\n",
      "after assignment x =  [   0    1    2    3    4    5 -111    7    8    9]\n",
      "after assignment y =  [   0    2    4 -111    8]\n",
      "140547167789776 140547305238672\n"
     ]
    }
   ],
   "source": [
    "x = np.arange(10)\n",
    "print('x = ', x)\n",
    "y = x[::2]\n",
    "print('y = ', y)\n",
    "y[3] = -111\n",
    "print('after assignment x = ', x)\n",
    "print('after assignment y = ', y)\n",
    "print(id(x),id(y))      # Note that this happens even though \n",
    "                        # the id of a view pointing to a subset of the orignial array \n",
    "                        # is different from the original array"
   ]
  },
  {
   "cell_type": "markdown",
   "metadata": {
    "slideshow": {
     "slide_type": "slide"
    }
   },
   "source": [
    "Even though we took a slice with a given start, end, and slice, the resulting array was still just a reference, or **view**, of the array in the original array! (note that for lists, ``x[::2]`` returns a copy!). \n",
    "\n",
    "We have actually used this convenient feature when masking:"
   ]
  },
  {
   "cell_type": "code",
   "execution_count": 23,
   "metadata": {},
   "outputs": [
    {
     "name": "stdout",
     "output_type": "stream",
     "text": [
      "after masking x =  [0 0 0 0 0 5 0 7 8 9]\n",
      "after masking y =  [0 0 0 0 8]\n"
     ]
    }
   ],
   "source": [
    "x[x < 5] = 0.\n",
    "print('after masking x = ', x)\n",
    "print('after masking y = ', y)"
   ]
  },
  {
   "cell_type": "markdown",
   "metadata": {
    "slideshow": {
     "slide_type": "slide"
    }
   },
   "source": [
    "There is one exception to the referencing, which is:"
   ]
  },
  {
   "cell_type": "code",
   "execution_count": 24,
   "metadata": {},
   "outputs": [
    {
     "name": "stdout",
     "output_type": "stream",
     "text": [
      "x =  [0 1 2 3 4 5 6 7 8 9]\n",
      "y =  [-111    3    2    2    7]\n"
     ]
    }
   ],
   "source": [
    "x = np.arange(10)\n",
    "y = x[[1,3,2,2,7]]  # fancy indexing returns a new array, not a view\n",
    "y[0] = -111\n",
    "print('x = ', x)  # x has not been changed\n",
    "print('y = ', y)"
   ]
  },
  {
   "cell_type": "markdown",
   "metadata": {
    "slideshow": {
     "slide_type": "slide"
    }
   },
   "source": [
    "As before, you can explore this further to understand in what cases references or copies are made. However, be aware that the ``id`` of a view *will* be different from the original array, even though the view is actually pointing to a subset of the original array."
   ]
  },
  {
   "cell_type": "markdown",
   "metadata": {
    "slideshow": {
     "slide_type": "slide"
    }
   },
   "source": [
    "In the case of Numpy arrays, one can force a copy by doing:"
   ]
  },
  {
   "cell_type": "code",
   "execution_count": 25,
   "metadata": {
    "scrolled": true
   },
   "outputs": [
    {
     "name": "stdout",
     "output_type": "stream",
     "text": [
      "x =  [0 1 2 3 4 5 6 7 8 9]\n",
      "y =  [-111    1    2    3    4    5    6    7    8    9]\n"
     ]
    }
   ],
   "source": [
    "x = np.arange(10)\n",
    "y = x.copy()\n",
    "y[0] = -111\n",
    "print('x = ', x)\n",
    "print('y = ', y)"
   ]
  },
  {
   "cell_type": "markdown",
   "metadata": {},
   "source": [
    "Before you start cursing the numpy authors because it might seem they were out to confuse you: They did this because very common operations become very fast in this way, and in practice that's much less of a trap than you may suspect."
   ]
  },
  {
   "cell_type": "markdown",
   "metadata": {},
   "source": [
    "## Exercise"
   ]
  },
  {
   "cell_type": "markdown",
   "metadata": {},
   "source": [
    "The following questions are just to test your understanding of the variable assignment - you don't need to write any code - just try and think of what the output will be, then you can try it out to check if you got it right:\n",
    "\n",
    "\n",
    "**Guess first before you try it out!**\n",
    "\n",
    "What will ``a`` be after the following?\n",
    "\n",
    "    a = [1, 3., [1, 2, 3], 'hello']\n",
    "    b = a[0]\n",
    "    b = 4.\n",
    "\n",
    "What will ``c`` be after the following?\n",
    "\n",
    "    c = [1, 3., [1, 2, 3], 'hello']\n",
    "    d = c[2]\n",
    "    d.append(8)\n",
    "\n",
    "What will ``e`` be after the following?\n",
    "\n",
    "    e = [1, 3., [1, 2, 3], 'hello']\n",
    "    f = e[2]\n",
    "    f = [1, 2]\n",
    "\n",
    "What will ``g`` be after the following?\n",
    "\n",
    "    g = [1, 2, 3, 4]\n",
    "    h = g[::2]\n",
    "    h[0] = 9\n",
    "\n",
    "What will ``i`` be after the following?\n",
    "\n",
    "    import numpy as np\n",
    "    i = np.array([1, 2, 3, 4])\n",
    "    j = i[::2]\n",
    "    j[0] = 9"
   ]
  },
  {
   "cell_type": "code",
   "execution_count": null,
   "metadata": {},
   "outputs": [],
   "source": [
    "\n",
    "# You can try here to see if your guess is correct!\n"
   ]
  },
  {
   "cell_type": "markdown",
   "metadata": {},
   "source": [
    "## More on indexing in Numpy and views (optional)"
   ]
  },
  {
   "cell_type": "code",
   "execution_count": null,
   "metadata": {},
   "outputs": [],
   "source": [
    "a = np.arange(20)+1\n",
    "print(a)"
   ]
  },
  {
   "cell_type": "markdown",
   "metadata": {},
   "source": [
    "The above creates a one-dimensional array with elements 1 ... 20. The computer memory stores data also in a 1D arrangement, each storage \"box\" containing data has a *memory address*."
   ]
  },
  {
   "cell_type": "markdown",
   "metadata": {},
   "source": [
    "With Numpy's ``reshape`` function we can make 2D array from the array *a*."
   ]
  },
  {
   "cell_type": "code",
   "execution_count": null,
   "metadata": {},
   "outputs": [],
   "source": [
    "d1 = 5 # invent some sizes of the two dimensions so that d1*d2 = len(a)\n",
    "d2 = 4\n",
    "b = np.reshape(a, (d1,d2))  # makes 5x4 matrix from a\n",
    "print(b)\n",
    "\n",
    "b[2,2] = -111\n",
    "print(b, a)"
   ]
  },
  {
   "cell_type": "markdown",
   "metadata": {},
   "source": [
    "One has to realize that there is at least one further possibility how to arrange the array ``a`` into a 2D matrix:"
   ]
  },
  {
   "cell_type": "code",
   "execution_count": null,
   "metadata": {},
   "outputs": [],
   "source": [
    "c = np.reshape(a, (d1,d2), order='F')  # also makes 5x4 matrix from a\n",
    "print(c)"
   ]
  },
  {
   "cell_type": "markdown",
   "metadata": {},
   "source": [
    "The first way is called **row-major** ordering, the second **column-major** ordering. Programming languages like Fortran, Matlab, and R use column-major ordering (as in array ``c``). The language C is using row-major ordering (as in array ``b``).  Python is applying row-major ordering by default but can also do column-major ordering if requested."
   ]
  },
  {
   "cell_type": "markdown",
   "metadata": {},
   "source": [
    "We can try to emulate the behavior that we have seen by explicitly construct the mapping between multi-dimensional index tupel and sequential memory address (German \"Speicherabbildungsfunktion\"). Here for the row-major ordered array ``b``:"
   ]
  },
  {
   "cell_type": "code",
   "execution_count": null,
   "metadata": {},
   "outputs": [],
   "source": [
    "# mapping function (i,j) -> memory address\n",
    "def xrow(i,j):\n",
    "    return d2*i+j   # note dependence on dimension d2 only\n",
    "\n",
    "for i in range(d1):\n",
    "    for j in range(d2):\n",
    "        print(f\"({i:},{j})  {b[i,j]:4d} {a[xrow(i,j)]:4d}\" )    #{x:4d} converts x to a 4-character string"
   ]
  },
  {
   "cell_type": "markdown",
   "metadata": {},
   "source": [
    "We see that the multi-dimensional arrays are a software concept, giving the user the feeling of working with multi-dimensional arrays while the internal lay-out of the data is actually sequential. A Numpy **view** is just this kind of mapping, i.e. in fact an internal function converting index tupels to sequential address.\n",
    "\n",
    "In the lecture is was stated that an index slice is in fact a view. Here is an example of how a slice like ``b[::2,1:3]`` can be expressed by a function picking out the expected elements from array ``a``:"
   ]
  },
  {
   "cell_type": "code",
   "execution_count": null,
   "metadata": {},
   "outputs": [],
   "source": [
    "d = b[::2,1:3]\n",
    "\n",
    "shape_d = np.shape(d)\n",
    "\n",
    "def xslice(i,j):\n",
    "    return d2*i*2 + j+1    # factor 2 for step, and offset 1 \n",
    "\n",
    "for i in range(shape_d[0]):\n",
    "    for j in range(shape_d[1]):\n",
    "        print(f\"({i:},{j})  {d[i,j]:4d} {a[xslice(i,j)]:4d}\" )  "
   ]
  }
 ],
 "metadata": {
  "anaconda-cloud": {},
  "kernelspec": {
   "display_name": "Python 3 (ipykernel)",
   "language": "python",
   "name": "python3"
  },
  "language_info": {
   "codemirror_mode": {
    "name": "ipython",
    "version": 3
   },
   "file_extension": ".py",
   "mimetype": "text/x-python",
   "name": "python",
   "nbconvert_exporter": "python",
   "pygments_lexer": "ipython3",
   "version": "3.9.13"
  }
 },
 "nbformat": 4,
 "nbformat_minor": 1
}
