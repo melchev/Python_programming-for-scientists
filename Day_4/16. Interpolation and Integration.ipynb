{
 "cells": [
  {
   "cell_type": "markdown",
   "metadata": {
    "slideshow": {
     "slide_type": "slide"
    }
   },
   "source": [
    "# Introduction to Scipy: Interpolation and Integration"
   ]
  },
  {
   "cell_type": "markdown",
   "metadata": {
    "slideshow": {
     "slide_type": "slide"
    }
   },
   "source": [
    "In this section, we will look at two other common sub-packages of Scipy: [scipy.interpolate](http://docs.scipy.org/doc/scipy/reference/interpolate.html) and [scipy.integrate](http://docs.scipy.org/doc/scipy/reference/integrate.html)."
   ]
  },
  {
   "cell_type": "markdown",
   "metadata": {
    "slideshow": {
     "slide_type": "slide"
    }
   },
   "source": [
    "## Interpolation"
   ]
  },
  {
   "cell_type": "markdown",
   "metadata": {
    "slideshow": {
     "slide_type": "slide"
    }
   },
   "source": [
    "The simplest interpolation routine in [scipy.interpolate](http://docs.scipy.org/doc/scipy/reference/interpolate.html) is [interp1d](http://docs.scipy.org/doc/scipy/reference/generated/scipy.interpolate.interp1d.html#scipy.interpolate.interp1d):"
   ]
  },
  {
   "cell_type": "code",
   "execution_count": null,
   "metadata": {},
   "outputs": [],
   "source": [
    "from scipy.interpolate import interp1d"
   ]
  },
  {
   "cell_type": "markdown",
   "metadata": {
    "slideshow": {
     "slide_type": "slide"
    }
   },
   "source": [
    "If we create a fake dataset:"
   ]
  },
  {
   "cell_type": "code",
   "execution_count": null,
   "metadata": {},
   "outputs": [],
   "source": [
    "import numpy as np\n",
    "x = np.array([0., 1., 3., 4.])\n",
    "y = np.array([0., 4., 2.7, 2.08])"
   ]
  },
  {
   "cell_type": "markdown",
   "metadata": {},
   "source": [
    "we can interpolate linearly by first creating an interpolating function:"
   ]
  },
  {
   "cell_type": "code",
   "execution_count": null,
   "metadata": {},
   "outputs": [],
   "source": [
    "f = interp1d(x,y)"
   ]
  },
  {
   "cell_type": "markdown",
   "metadata": {
    "slideshow": {
     "slide_type": "slide"
    }
   },
   "source": [
    "and we can then interpolate to any value of x within the original bounds:"
   ]
  },
  {
   "cell_type": "code",
   "execution_count": null,
   "metadata": {},
   "outputs": [],
   "source": [
    "f(0.5)"
   ]
  },
  {
   "cell_type": "code",
   "execution_count": null,
   "metadata": {},
   "outputs": [],
   "source": [
    "f(3.3)"
   ]
  },
  {
   "cell_type": "markdown",
   "metadata": {
    "slideshow": {
     "slide_type": "slide"
    }
   },
   "source": [
    "It is also possible to interpolate to several values at the same time:"
   ]
  },
  {
   "cell_type": "code",
   "execution_count": null,
   "metadata": {},
   "outputs": [],
   "source": [
    "f(np.array([0.5, 1.5, 2.5, 3.5]))"
   ]
  },
  {
   "cell_type": "markdown",
   "metadata": {
    "slideshow": {
     "slide_type": "slide"
    }
   },
   "source": [
    "If the interpolating function is called outside the original range, an error is raised:"
   ]
  },
  {
   "cell_type": "code",
   "execution_count": null,
   "metadata": {},
   "outputs": [],
   "source": [
    "f(-1.)"
   ]
  },
  {
   "cell_type": "markdown",
   "metadata": {
    "slideshow": {
     "slide_type": "slide"
    }
   },
   "source": [
    "You can change this behavior by telling ``interp1d`` to not give an error in this case, but to use a set value:"
   ]
  },
  {
   "cell_type": "code",
   "execution_count": null,
   "metadata": {
    "slideshow": {
     "slide_type": "fragment"
    }
   },
   "outputs": [],
   "source": [
    "f = interp1d(x, y, bounds_error=False, fill_value=-10.)"
   ]
  },
  {
   "cell_type": "code",
   "execution_count": null,
   "metadata": {
    "slideshow": {
     "slide_type": "fragment"
    }
   },
   "outputs": [],
   "source": [
    "f(-1.0)"
   ]
  },
  {
   "cell_type": "code",
   "execution_count": null,
   "metadata": {
    "slideshow": {
     "slide_type": "fragment"
    }
   },
   "outputs": [],
   "source": [
    "f(np.array([-1., 1., 3., 6.]))"
   ]
  },
  {
   "cell_type": "markdown",
   "metadata": {
    "slideshow": {
     "slide_type": "slide"
    }
   },
   "source": [
    "By default, ``interp1d`` uses linear interpolation, but it is also possible to use e.g. cubic **spline** interpolation:"
   ]
  },
  {
   "cell_type": "code",
   "execution_count": null,
   "metadata": {},
   "outputs": [],
   "source": [
    "f = interp1d(x, y, kind='cubic')\n",
    "f(0.5)"
   ]
  },
  {
   "cell_type": "markdown",
   "metadata": {},
   "source": [
    "Let's compare a few ways to interpolate:"
   ]
  },
  {
   "cell_type": "code",
   "execution_count": null,
   "metadata": {},
   "outputs": [],
   "source": [
    "import matplotlib.pyplot as plt\n",
    "%matplotlib inline"
   ]
  },
  {
   "cell_type": "code",
   "execution_count": null,
   "metadata": {},
   "outputs": [],
   "source": [
    "xp=np.arange(0,4,0.1)\n",
    "g = interp1d(x,y,kind=2) # equivalent to 'quadratic'\n",
    "h = interp1d(x,y,kind=3) # equivalent to 'cubic'\n",
    "\n",
    "plt.plot(xp,f(xp),xp,g(xp),xp,h(xp))\n",
    "plt.xlim(0,6)\n",
    "plt.legend(['linear','quadratic spline','cubic spline'])"
   ]
  },
  {
   "cell_type": "code",
   "execution_count": null,
   "metadata": {},
   "outputs": [],
   "source": [
    "def orig(x):\n",
    "    return 3.11-3.11*(x-1)*(x-1)+0.5*x+0.39*x*x*x\n",
    "\n",
    "xp=np.arange(0,4,0.5)\n",
    "print (xp)\n",
    "print (orig(xp))\n",
    "print (h(xp))"
   ]
  },
  {
   "cell_type": "markdown",
   "metadata": {
    "slideshow": {
     "slide_type": "slide"
    }
   },
   "source": [
    "For more information, see the documentation for [interp1d](http://docs.scipy.org/doc/scipy/reference/generated/scipy.interpolate.interp1d.html#scipy.interpolate.interp1d). There are also other interpolation functions available (for example for spline interpolation), which you can read up about at [scipy.interpolate](http://docs.scipy.org/doc/scipy/reference/interpolate.html). \n",
    "\n",
    "[Wikipedia](https://en.wikipedia.org/wiki/Spline_%28mathematics%29) also has some information on splines."
   ]
  },
  {
   "cell_type": "markdown",
   "metadata": {
    "slideshow": {
     "slide_type": "slide"
    }
   },
   "source": [
    "## Integration"
   ]
  },
  {
   "cell_type": "markdown",
   "metadata": {
    "slideshow": {
     "slide_type": "slide"
    }
   },
   "source": [
    "The available integration functions are listed at [scipy.integrate](http://docs.scipy.org/doc/scipy/reference/integrate.html#module-scipy.integrate). See also the tutorial [here](http://docs.scipy.org/doc/scipy/reference/tutorial/integrate.html). You will notice there are two kinds of functions - those that integrate actual Python functions, and those that integrate numerical functions defined by Numpy arrays."
   ]
  },
  {
   "cell_type": "markdown",
   "metadata": {
    "slideshow": {
     "slide_type": "slide"
    }
   },
   "source": [
    "First, we can take a look at one of the functions that can integrate actual Python functions. If we define a function:"
   ]
  },
  {
   "cell_type": "code",
   "execution_count": null,
   "metadata": {},
   "outputs": [],
   "source": [
    "def simple_function(x):\n",
    "    return 3. * x**2 + 2. * x + 1."
   ]
  },
  {
   "cell_type": "markdown",
   "metadata": {},
   "source": [
    "we can integrate it between limits using:"
   ]
  },
  {
   "cell_type": "code",
   "execution_count": null,
   "metadata": {},
   "outputs": [],
   "source": [
    "from scipy.integrate import quad\n",
    "print(quad(simple_function, 1., 2.))"
   ]
  },
  {
   "cell_type": "markdown",
   "metadata": {
    "slideshow": {
     "slide_type": "-"
    }
   },
   "source": [
    "As described in the documentation for [quad](http://docs.scipy.org/doc/scipy/reference/generated/scipy.integrate.quad.html#scipy.integrate.quad), the first value returned is the integral, and the second is the error on the integral. If we had solved the integral analytically, we would expect 11, so the result is correct. The names comes from quadrature for working out the area under curve by splitting it up into know sub-areas."
   ]
  },
  {
   "cell_type": "markdown",
   "metadata": {
    "slideshow": {
     "slide_type": "slide"
    }
   },
   "source": [
    "We can also define functions as Numpy arrays:"
   ]
  },
  {
   "cell_type": "code",
   "execution_count": null,
   "metadata": {},
   "outputs": [],
   "source": [
    "x = np.linspace(1., 2., 1000)\n",
    "y = 3. * x**2 + 2. * x + 1."
   ]
  },
  {
   "cell_type": "markdown",
   "metadata": {
    "slideshow": {
     "slide_type": "-"
    }
   },
   "source": [
    "And in this case we can use for example the [simps](https://docs.scipy.org/doc/scipy-1.5.4/reference/generated/scipy.integrate.simps.html)  function to integrate using Simpson's rule:"
   ]
  },
  {
   "cell_type": "code",
   "execution_count": null,
   "metadata": {},
   "outputs": [],
   "source": [
    "from scipy.integrate import simps\n",
    "print(simps(y, x=x))"
   ]
  },
  {
   "cell_type": "markdown",
   "metadata": {
    "slideshow": {
     "slide_type": "slide"
    }
   },
   "source": [
    "This can be very useful in cases where one wants to integrate actual data that cannot be represented as a simple function or when the function is only available numerically."
   ]
  },
  {
   "cell_type": "markdown",
   "metadata": {
    "slideshow": {
     "slide_type": "slide"
    }
   },
   "source": [
    "Note that there is an issue on the [scipy.integrate](http://docs.scipy.org/doc/scipy/reference/integrate.html#module-scipy.integrate) page - there should also be a menton of the ``trapz`` function which works similarly to ``simps`` but does trapezium integration:"
   ]
  },
  {
   "cell_type": "code",
   "execution_count": null,
   "metadata": {},
   "outputs": [],
   "source": [
    "from scipy.integrate import trapz\n",
    "print(trapz(y, x=x))"
   ]
  },
  {
   "cell_type": "markdown",
   "metadata": {},
   "source": [
    "## Exercise 1"
   ]
  },
  {
   "cell_type": "markdown",
   "metadata": {},
   "source": [
    "a) Write a function that takes ``x``, and the parameters for a Gaussian (amplitude, displacement, width) and returns the value of the Gaussian at ``x``:"
   ]
  },
  {
   "cell_type": "code",
   "execution_count": null,
   "metadata": {},
   "outputs": [],
   "source": [
    "\n",
    "# your solution here\n"
   ]
  },
  {
   "cell_type": "markdown",
   "metadata": {},
   "source": [
    "b) Use ``quad`` to compute the integral and compare to what you would expect. 'Remember' that the integral of a gaussian of amplitude $A$, mean $x_0$ and width $\\sigma$ between $x_1$ and $x_2$ is:\n",
    "\n",
    "$A*\\sqrt{\\frac{\\pi}{2}}*\\sigma * \\left( \\erf(\\sqrt{0.5}*\\frac{x_2-x_0}{\\sigma})-\\erf(\\sqrt{0.5}*\\frac{(x_1-x_0)}{\\sigma})\\right)$\n",
    "\n",
    "With the $\\erf$ function accessible as `math.erf`."
   ]
  },
  {
   "cell_type": "code",
   "execution_count": null,
   "metadata": {},
   "outputs": [],
   "source": [
    "\n",
    "# your solution here\n"
   ]
  },
  {
   "cell_type": "markdown",
   "metadata": {},
   "source": [
    "c) Now create two arrays ``x`` and ``y`` that contain the Gaussian for fixed values ``x``, and try and compute the integral using ``simps``."
   ]
  },
  {
   "cell_type": "code",
   "execution_count": null,
   "metadata": {},
   "outputs": [],
   "source": [
    "\n",
    "# your solution here\n"
   ]
  },
  {
   "cell_type": "markdown",
   "metadata": {},
   "source": [
    "Compare this to what you found with ``quad`` and analytically."
   ]
  },
  {
   "cell_type": "markdown",
   "metadata": {},
   "source": [
    "## Differential equations"
   ]
  },
  {
   "cell_type": "markdown",
   "metadata": {},
   "source": [
    "An important task in scientific computing is to solve differential equations.\n",
    "\n",
    "*scipy.integrate* also has *odeint* which we use here to solve the damped oscillation\n",
    "\n",
    "$$\\ddot{x} + 2 \\gamma \\dot{x} + k x = 0$$\n"
   ]
  },
  {
   "cell_type": "code",
   "execution_count": null,
   "metadata": {},
   "outputs": [],
   "source": [
    "import numpy as np\n",
    "import matplotlib.pyplot as plt\n",
    "%matplotlib inline\n",
    "\n",
    "from scipy.integrate import odeint"
   ]
  },
  {
   "cell_type": "markdown",
   "metadata": {},
   "source": [
    "For the *odeint* solver, the differential equation needs to be split up into a system of first-order equations:\n",
    "\n",
    "(1)    $\\dot{x} = v$\n",
    "\n",
    "(2)    $\\dot{v} = -k x - 2 g v$"
   ]
  },
  {
   "cell_type": "code",
   "execution_count": null,
   "metadata": {},
   "outputs": [],
   "source": [
    "def diffeq(x, t,k,g):\n",
    "\n",
    "    #define/clear derivative\n",
    "    dxdt = np.zeros(2)\n",
    "\n",
    "    \"\"\" differential equation for damped oscillation\n",
    "        split into first-order equation \n",
    "         x. = v\n",
    "         v. = - k x - 2 gamma v\n",
    "    \"\"\"\n",
    "    dxdt[0] = x[1]\n",
    "    dxdt[1] = -k*x[0] - 2* g*x[1]\n",
    "\n",
    "    return dxdt\n",
    "\n",
    "\"\"\" constants \"\"\"\n",
    "k=0.1\n",
    "g=0.25\n",
    "\n",
    "x    = np.array([2.0,-0.8])         # initial position\n",
    "time = np.linspace(0.0,100.0,100)   # evaluation times\n",
    "\n",
    "\"\"\" calling the solver \"\"\"\n",
    "solution = odeint(diffeq, x, time, args=(k,g))"
   ]
  },
  {
   "cell_type": "markdown",
   "metadata": {},
   "source": [
    "This is the corresponding analytical solution:"
   ]
  },
  {
   "cell_type": "code",
   "execution_count": null,
   "metadata": {},
   "outputs": [],
   "source": [
    "def damped_oscillation(t,x,k,g):\n",
    "    om=np.sqrt(k-g**2)\n",
    "    \n",
    "    A=(x[1]+g*x[0])/om\n",
    "    B=x[0]\n",
    "    \n",
    "    return (A*np.sin(om*t)+B*np.cos(om*t))*np.exp(-g*t)"
   ]
  },
  {
   "cell_type": "code",
   "execution_count": null,
   "metadata": {},
   "outputs": [],
   "source": [
    "\n",
    "plt.plot(time,solution[:,0],time,damped_oscillation(time,x,k,g))\n",
    "plt.legend(['Numerical','Analytical'])"
   ]
  },
  {
   "cell_type": "markdown",
   "metadata": {},
   "source": [
    "## Exercise 2"
   ]
  },
  {
   "cell_type": "markdown",
   "metadata": {},
   "source": [
    "a) Plot the motion of a critically damped oscillator $\\gamma$ = $2 \\sqrt{k}$ "
   ]
  },
  {
   "cell_type": "code",
   "execution_count": null,
   "metadata": {},
   "outputs": [],
   "source": [
    "\n",
    "# solution here\n"
   ]
  },
  {
   "cell_type": "markdown",
   "metadata": {},
   "source": [
    "b) Extend the differential equation by a forcing $f(x)=A_0 \\cos (\\omega_0 t)$ [choose $A_0$ and $\\omega_0$].\n",
    "Consider the initial behaviour of the system."
   ]
  },
  {
   "cell_type": "code",
   "execution_count": null,
   "metadata": {},
   "outputs": [],
   "source": [
    "\n",
    "# solution here\n"
   ]
  },
  {
   "cell_type": "code",
   "execution_count": 13,
   "metadata": {},
   "outputs": [
    {
     "data": {
      "image/png": "[encoded data removed]",
      "text/plain": [
       "<Figure size 640x480 with 1 Axes>"
      ]
     },
     "metadata": {},
     "output_type": "display_data"
    }
   ],
   "source": [
    "import numpy as np\n",
    "import matplotlib.pyplot as plt\n",
    "from scipy.integrate import odeint\n",
    "\n",
    "# Parameters \n",
    "A = 1e13 # Arrhenius constant\n",
    "T = 293.15 # Temperature [K]\n",
    "E_a = 80000 # Activation energy [J/mol]\n",
    "R = 8.31 # Ideal gas constant [J/molK]\n",
    "rho = 1000 # density [kg/m3]\n",
    "F_in = 0.2 # Inlet flowrate [m3/s]\n",
    "h = 2.1 # Height of reactor\n",
    "A_ = 1 # Cross-sectional area of reactor [m2]\n",
    "\n",
    "V = A_*h  # Reactor volume [m3]\n",
    "k = A*np.exp(-E_a/(R*T)) # Reaction rate constant\n",
    "F_out = F_in # Steady state\n",
    "\n",
    "def dUdt(U, t):\n",
    "    m, C_A, C_B = U\n",
    "\n",
    "    dmdt = rho*(F_in - F_out)\n",
    "    dC_Adt = ( F_in*C_A - F_out*C_A )/ V-k*C_A\n",
    "    dC_Bdt = ( F_in*C_B - F_out*C_B )/ V+k*C_A\n",
    "\n",
    "    return [dmdt, dC_Adt, dC_Bdt]\n",
    "\n",
    "# Create time domain\n",
    "t_span = np.linspace(0, 100, 30)\n",
    "\n",
    "# Initial condition\n",
    "C_A0 = 3 # Initial concentration [mol/m3]\n",
    "C_B0 = 0.5 # Initial concentration [mol/m3]\n",
    "m0 = 1 # Initial mass in tank [kg]\n",
    "\n",
    "Uzero = [m0, C_A0, C_B0]\n",
    "\n",
    "solution = odeint(dUdt, Uzero, t_span)\n",
    "\n",
    "# plot\n",
    "plt.plot(t_span, solution[:, 0], label='masse');\n",
    "plt.plot(t_span, solution[:, 1], label='C_A');\n",
    "plt.plot(t_span, solution[:, 2], label='C_B');\n",
    "plt.legend();\n",
    "plt.xlabel('time'); \n"
   ]
  },
  {
   "cell_type": "markdown",
   "metadata": {},
   "source": [
    "$𝑦_1′=𝑦_1\\left(\\frac{Ω_m}{𝑦_1^3}+\\frac{𝑦_3^2}{6.0}+\\frac{𝑉(𝑦2)}{2 𝐻_0^2} \\right)^{0.5} $\n",
    "\n",
    "$𝑦_2′=𝑦_3$\n",
    "\n",
    "$𝑦_3′=−3\\frac{𝑦_1′}{𝑦1}𝑦_3−\\frac{1}{𝐻^2_0} \\frac{∂𝑣(𝑦2)}{∂𝑦_2}$\n"
   ]
  },
  {
   "cell_type": "code",
   "execution_count": null,
   "metadata": {},
   "outputs": [],
   "source": [
    "\n",
    "def f(y,t):\n",
    "    Xi = y[0]\n",
    "    Yi = y[1]\n",
    "    Zi = y[2]\n",
    "    f0 = Xi*(omega/(Xi**3) + (Zi**2)/6.0 + (v0*np.exp(-l*Yi*k))/(rho_c))**(1.0/2.0)\n",
    "    f1 =  Zi\n",
    "    f2 =  -3*Zi*(H**2)*(omega/(Xi**3) + (Zi**2)/6.0 + (v0*np.exp(-l*Yi*k))/(rho_c))**0.5 + (l*k*v0*np.exp(-l*Yi*k))/(H**2)\n",
    "    return [f0,f1,f2]\n",
    "\n",
    "X0 = 1.0\n",
    "Y0 = 1.0\n",
    "Z0 = 1\n",
    "y0 = [X0,Y0,Z0]\n",
    "t = np.linspace(start=1.0,stop=0.0,num=10001)\n",
    "\n",
    "soln = odeint(f,y0,t)\n",
    "X = soln[:,0]\n",
    "Y = soln[:,1]\n",
    "Z = soln[:,2]  "
   ]
  },
  {
   "cell_type": "code",
   "execution_count": null,
   "metadata": {},
   "outputs": [],
   "source": []
  }
 ],
 "metadata": {
  "anaconda-cloud": {},
  "kernelspec": {
   "display_name": "Python 3 (ipykernel)",
   "language": "python",
   "name": "python3"
  },
  "language_info": {
   "codemirror_mode": {
    "name": "ipython",
    "version": 3
   },
   "file_extension": ".py",
   "mimetype": "text/x-python",
   "name": "python",
   "nbconvert_exporter": "python",
   "pygments_lexer": "ipython3",
   "version": "3.9.13"
  }
 },
 "nbformat": 4,
 "nbformat_minor": 1
}
