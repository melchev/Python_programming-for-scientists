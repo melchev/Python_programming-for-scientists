{
 "cells": [
  {
   "cell_type": "markdown",
   "metadata": {},
   "source": [
    "# Remarks on list comprehension and lambda function"
   ]
  },
  {
   "cell_type": "markdown",
   "metadata": {},
   "source": [
    "## List comprehension\n",
    "\n",
    "Python offers a compact method called \"list comprehension\" to create lists from iterables. \n",
    "Consider the following construction of a list of squares:"
   ]
  },
  {
   "cell_type": "code",
   "execution_count": 1,
   "metadata": {},
   "outputs": [
    {
     "name": "stdout",
     "output_type": "stream",
     "text": [
      "[0, 1, 4, 9]\n"
     ]
    }
   ],
   "source": [
    "iterable=range(5)\n",
    "my_list=[]\n",
    "\n",
    "for x in iterable:\n",
    "    if x<=3:\n",
    "        my_list.append(x**2)\n",
    "        \n",
    "print(my_list)        "
   ]
  },
  {
   "cell_type": "markdown",
   "metadata": {},
   "source": [
    "With a list comprehension this can be done in one line:"
   ]
  },
  {
   "cell_type": "code",
   "execution_count": 2,
   "metadata": {},
   "outputs": [
    {
     "name": "stdout",
     "output_type": "stream",
     "text": [
      "[0, 1, 4, 9]\n"
     ]
    }
   ],
   "source": [
    "my_list=[x**2 for x in iterable if x<=3]\n",
    "\n",
    "print(my_list)"
   ]
  },
  {
   "cell_type": "code",
   "execution_count": 3,
   "metadata": {},
   "outputs": [
    {
     "ename": "TypeError",
     "evalue": "'range' object is not an iterator",
     "output_type": "error",
     "traceback": [
      "\u001b[0;31m---------------------------------------------------------------------------\u001b[0m",
      "\u001b[0;31mTypeError\u001b[0m                                 Traceback (most recent call last)",
      "\u001b[0;32m/var/folders/vq/ylcqs5953l18fhxflxcms74w0000gq/T/ipykernel_30940/1608679135.py\u001b[0m in \u001b[0;36m<module>\u001b[0;34m\u001b[0m\n\u001b[0;32m----> 1\u001b[0;31m \u001b[0mnext\u001b[0m\u001b[0;34m(\u001b[0m\u001b[0miterable\u001b[0m\u001b[0;34m)\u001b[0m\u001b[0;34m\u001b[0m\u001b[0;34m\u001b[0m\u001b[0m\n\u001b[0m",
      "\u001b[0;31mTypeError\u001b[0m: 'range' object is not an iterator"
     ]
    }
   ],
   "source": [
    "next(iterable)"
   ]
  },
  {
   "cell_type": "code",
   "execution_count": null,
   "metadata": {},
   "outputs": [],
   "source": []
  },
  {
   "cell_type": "markdown",
   "metadata": {},
   "source": [
    "You can see that a loop such as\n",
    "\n",
    "    for item in iterable:\n",
    "        if conditional:\n",
    "            expression\n",
    "\n",
    "is equivalent to\n",
    "\n",
    "    [expression for item in iterable if conditional]\n",
    "    \n",
    "Note, that the conditional expression is optional. List comprehensions provide a compact formulation of the list building, and is also more efficient. However, one should avoid long list comprehensions that easily become incomprehensible.    "
   ]
  },
  {
   "cell_type": "markdown",
   "metadata": {},
   "source": [
    "## Lambda function\n",
    "\n"
   ]
  },
  {
   "cell_type": "markdown",
   "metadata": {},
   "source": [
    "The ``lambda`` expression is an alternative to ``def`` to create a function object. Different from ``def``, it does not assign a name to the defined function, and hence is sometimes called an *anonymous* function. Since it is an *expression* it can appear in places where ``def`` is allowed by the Python syntax. In practice, it is typically used to place a short auxiliary function somewhere in a larger expression. "
   ]
  },
  {
   "cell_type": "markdown",
   "metadata": {},
   "source": [
    "Syntactically, a ``lambda`` looks like\n",
    "\n",
    "    lambda argument1, argument2, ..., argumentN: expression using arguments\n",
    "    \n",
    "There are no parentheses around the arguments, and the body of a ``lambda`` definition consists of a single statement which constitutes its return value. No explicit ``return`` like in ``def`` is present. The body of a ``lambda`` expression creates a local scope like the body of a ``def`` function definition following the same scoing rules. Since only a single statement is allowed ``lambda`` expressions are not suitable for complex tasks. "
   ]
  },
  {
   "cell_type": "markdown",
   "metadata": {},
   "source": [
    "``lambda`` expressions are most useful as a shorthand for ``def`` when you need to stuff small pieces of executable code into places where statements (like ``def``) are illegal syntactically. For instance:"
   ]
  },
  {
   "cell_type": "code",
   "execution_count": null,
   "metadata": {},
   "outputs": [],
   "source": [
    "# Create a list of callable functions\n",
    "L = [lambda x: x**2,\n",
    "     lambda x: x**3,\n",
    "     lambda x: x**4]\n",
    "\n",
    "print(\"Powers of 2\")\n",
    "for f in L:\n",
    "    print(f(2))\n",
    "    \n",
    "print(\"Powers of 3\")\n",
    "for f in L:\n",
    "    print(f(3))"
   ]
  },
  {
   "cell_type": "markdown",
   "metadata": {},
   "source": [
    "Think about alternative ways how to achieve this!\n",
    "\n",
    "A naive definition of a list containing powers would not work ..."
   ]
  },
  {
   "cell_type": "code",
   "execution_count": null,
   "metadata": {},
   "outputs": [],
   "source": [
    "L = [x**2, x**3, x**4]"
   ]
  },
  {
   "cell_type": "markdown",
   "metadata": {},
   "source": [
    "... since the variable `x` is not defined when trying to define the list this throws an error. One actually wants to **defer** the execution of the contents of the list to a point when `x` is defined.\n",
    "\n",
    "One might alternatively define ordinary functions and put them into the list ..."
   ]
  },
  {
   "cell_type": "code",
   "execution_count": null,
   "metadata": {},
   "outputs": [],
   "source": [
    "def pow2(x): return x**2\n",
    "def pow3(x): return x**3\n",
    "def pow4(x): return x**4\n",
    "\n",
    "L = [pow2, pow3, pow4] # stuff function objects into list\n",
    "\n",
    "print(\"Powers of 2\")           \n",
    "for f in L:            # and loop over list\n",
    "    print(f(2))"
   ]
  },
  {
   "cell_type": "markdown",
   "metadata": {},
   "source": [
    "... which works but defines several named functions that are not needed or even wanted outside the particular context. The use ``lambda`` enforces **code proximity** that makes the code more understandable. In contrast, the definitions of of the `pow2`, `pow3`, and `pow4` functions can potentially be placed far away from the definition of the list."
   ]
  },
  {
   "cell_type": "markdown",
   "metadata": {},
   "source": [
    "### Multi-branch switching\n",
    "\n",
    "Occasionally, one does not want to control code execution via two-branch ``if`` conditions but rather want to use multiple critera. In other languages such multi-branch switching constructs exists (called *switch* or *case*). In Python, corresponding constructs do not exist, and one has to use other means.\n",
    "\n",
    "As an example, we want to count the number of occurrences of *A*, *C*, *G*, and *T* in a DNA sequence, as was necessary in Problem Set 1 to find the consensus sequence."
   ]
  },
  {
   "cell_type": "code",
   "execution_count": null,
   "metadata": {},
   "outputs": [],
   "source": [
    "dna = 'ATGCGCGGATCGTACCTAATCGATGGCATTAGCCGAGCCCGATTACGCATGCGCGGATCGTACCTAAGCCGAGCCCGATTACGC'\n",
    "print('number of bases =  ', len(dna))"
   ]
  },
  {
   "cell_type": "markdown",
   "metadata": {},
   "source": [
    "Starting with an implementation via an ``if-elif`` block ..."
   ]
  },
  {
   "cell_type": "code",
   "execution_count": null,
   "metadata": {},
   "outputs": [],
   "source": [
    "#%%timeit\n",
    "basecounts = [0,0,0,0]\n",
    "for base in dna:\n",
    "    if   base == 'A': basecounts[0] += 1\n",
    "    elif base == 'C': basecounts[1] += 1\n",
    "    elif base == 'G': basecounts[2] += 1\n",
    "    elif base == 'T': basecounts[3] += 1\n",
    "print(basecounts)\n"
   ]
  },
  {
   "cell_type": "markdown",
   "metadata": {},
   "source": [
    "Here using a ``dictionary`` for the desired multi-branch switch ..."
   ]
  },
  {
   "cell_type": "code",
   "execution_count": null,
   "metadata": {},
   "outputs": [],
   "source": [
    "#%%timeit\n",
    "basecounts  = {'A': 0, 'C': 0, 'G': 0, 'T': 0} # intialize dictionary of base counts\n",
    "for base in dna: \n",
    "    basecounts[base] += 1\n",
    "\n",
    "print(basecounts)    "
   ]
  }
 ],
 "metadata": {
  "kernelspec": {
   "display_name": "Python 3 (ipykernel)",
   "language": "python",
   "name": "python3"
  },
  "language_info": {
   "codemirror_mode": {
    "name": "ipython",
    "version": 3
   },
   "file_extension": ".py",
   "mimetype": "text/x-python",
   "name": "python",
   "nbconvert_exporter": "python",
   "pygments_lexer": "ipython3",
   "version": "3.9.13"
  }
 },
 "nbformat": 4,
 "nbformat_minor": 1
}
