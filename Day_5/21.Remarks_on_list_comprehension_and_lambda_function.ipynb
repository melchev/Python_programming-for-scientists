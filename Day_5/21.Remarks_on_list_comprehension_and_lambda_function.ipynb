{
 "cells": [
  {
   "cell_type": "markdown",
   "metadata": {},
   "source": [
    "# Remarks on list comprehension and lambda function"
   ]
  },
  {
   "cell_type": "markdown",
   "metadata": {},
   "source": [
    "## List comprehension\n",
    "\n",
    "Python offers a compact method called \"list comprehension\" to create lists from iterables. \n",
    "Consider the following construction of a list of squares:"
   ]
  },
  {
   "cell_type": "code",
   "execution_count": null,
   "metadata": {},
   "outputs": [],
   "source": [
    "iterable=range(5)\n",
    "my_list=[]\n",
    "\n",
    "for x in iterable:\n",
    "    if x<=3:\n",
    "        my_list.append(x**2)\n",
    "        \n",
    "print(my_list)        "
   ]
  },
  {
   "cell_type": "markdown",
   "metadata": {},
   "source": [
    "With a list comprehension this can be done in one line:"
   ]
  },
  {
   "cell_type": "code",
   "execution_count": null,
   "metadata": {},
   "outputs": [],
   "source": [
    "my_list=[x**2 for x in iterable if x<=3]\n",
    "\n",
    "print(my_list)"
   ]
  },
  {
   "cell_type": "markdown",
   "metadata": {},
   "source": [
    "You can see that a loop such as\n",
    "\n",
    "    for item in iterable:\n",
    "        if conditional:\n",
    "            expression\n",
    "\n",
    "is equivalent to\n",
    "\n",
    "    [expression for item in iterable if conditional]\n",
    "    \n",
    "Note, that the conditional expression is optional. List comprehensions provide a compact formulation of the list building, and is also more efficient. However, one should avoid long list comprehensions that easily become incomprehensible.    "
   ]
  },
  {
   "cell_type": "markdown",
   "metadata": {},
   "source": [
    "Behind the scenes, the for loop is calling the [iter()](https://docs.python.org/3/library/functions.html#iter) function on the container object. \n",
    "This returns an \"iterator\" object, with a method called `__next__()`, which accesses elements in the container one at a time. \n",
    "When there are no more elements, a \"StopIteration\" exception is raised, telling the for loop to stop.\n",
    "\n",
    "It is easy to add this behavior to a class we write."
   ]
  },
  {
   "cell_type": "code",
   "execution_count": null,
   "metadata": {},
   "outputs": [],
   "source": [
    "class Reverse:\n",
    "    \"\"\"Iterator for looping over a sequence backwards.\"\"\"\n",
    "    def __init__(self, data):\n",
    "        self.data = data\n",
    "        self.index = len(data)\n",
    "\n",
    "    def __iter__(self):\n",
    "        return self\n",
    "\n",
    "    def __next__(self):\n",
    "        if self.index == 0:\n",
    "            raise StopIteration\n",
    "            \n",
    "        self.index = self.index - 1\n",
    "        return self.data[self.index]"
   ]
  },
  {
   "cell_type": "code",
   "execution_count": null,
   "metadata": {},
   "outputs": [],
   "source": [
    "rev = Reverse('science!')\n",
    "\n",
    "for c in rev:\n",
    "    print(c)"
   ]
  },
  {
   "cell_type": "markdown",
   "metadata": {},
   "source": [
    "### Exercise\n",
    "\n",
    "Copy the `Reverse` class from above, rename it `Forward`, and modify it so that it iterates \"normally\" i.e. in the forward direction through its data."
   ]
  },
  {
   "cell_type": "code",
   "execution_count": null,
   "metadata": {},
   "outputs": [],
   "source": [
    "# Your solution here"
   ]
  },
  {
   "cell_type": "markdown",
   "metadata": {},
   "source": [
    "We can see how the function next() works in a Python loop. next(l_iter, “end”) will return “end” instead of raising the StopIteration error when iteration is complete."
   ]
  },
  {
   "cell_type": "code",
   "execution_count": 26,
   "metadata": {},
   "outputs": [
    {
     "name": "stdout",
     "output_type": "stream",
     "text": [
      "1\n",
      "2\n",
      "3\n"
     ]
    }
   ],
   "source": [
    "# define a list\n",
    "l = [1, 2, 3]  \n",
    "# create list_iterator\n",
    "l_iter = iter(l)  \n",
    " \n",
    "while True:\n",
    "    # item will be \"end\" if iteration is complete\n",
    "    item = next(l_iter, \"end\")\n",
    "    if item == \"end\":\n",
    "        break\n",
    "    print(item)"
   ]
  },
  {
   "cell_type": "markdown",
   "metadata": {},
   "source": [
    "## Lambda function"
   ]
  },
  {
   "cell_type": "markdown",
   "metadata": {},
   "source": [
    "The ``lambda`` expression is an alternative to ``def`` to create a function object. Different from ``def``, it does not assign a name to the defined function, and hence is sometimes called an *anonymous* function. Since it is an *expression* it can appear in places where ``def`` is allowed by the Python syntax. In practice, it is typically used to place a short auxiliary function somewhere in a larger expression. "
   ]
  },
  {
   "cell_type": "markdown",
   "metadata": {},
   "source": [
    "Syntactically, a ``lambda`` looks like\n",
    "\n",
    "    lambda argument1, argument2, ..., argumentN: expression using arguments\n",
    "    \n",
    "There are no parentheses around the arguments, and the body of a ``lambda`` definition consists of a single statement which constitutes its return value. No explicit ``return`` like in ``def`` is present. The body of a ``lambda`` expression creates a local scope like the body of a ``def`` function definition. This function can have any number of arguments but only one expression, which is evaluated and returned. Since only a single statement is allowed ``lambda`` expressions are not suitable for complex tasks. "
   ]
  },
  {
   "cell_type": "code",
   "execution_count": 35,
   "metadata": {},
   "outputs": [
    {
     "name": "stdout",
     "output_type": "stream",
     "text": [
      "15\n",
      "30\n"
     ]
    }
   ],
   "source": [
    "# Try some exemples:\n",
    "\n",
    "# Add 10 to a number\n",
    "x = lambda a : a + 10\n",
    "print(x(5))\n",
    "\n",
    "# Multiply two numbers\n",
    "x = lambda a, b : a * b\n",
    "print(x(5, 6))"
   ]
  },
  {
   "cell_type": "code",
   "execution_count": 40,
   "metadata": {},
   "outputs": [
    {
     "name": "stdout",
     "output_type": "stream",
     "text": [
      "Int formatting: 1.000000e+06\n",
      "float formatting: 999,999.79\n"
     ]
    }
   ],
   "source": [
    "# 'format_numric' calls the lambda function, and the 'num' is passed as a parameter to perform operations.\n",
    "\n",
    "format_numeric = lambda num: f\"{num:e}\" if isinstance(num, int) else f\"{num:,.2f}\"\n",
    " \n",
    "print(\"Int formatting:\", format_numeric(1000000))\n",
    "print(\"float formatting:\", format_numeric(999999.789541235))"
   ]
  },
  {
   "cell_type": "markdown",
   "metadata": {},
   "source": [
    "### Practical uses of the lambda function\n",
    " \n",
    "### List comprehension\n",
    "\n",
    "``lambda`` expressions are most useful as a shorthand for ``def`` when you need to stuff small pieces of executable code into places where statements (like ``def``) are illegal syntactically. For instance:"
   ]
  },
  {
   "cell_type": "code",
   "execution_count": 27,
   "metadata": {},
   "outputs": [
    {
     "name": "stdout",
     "output_type": "stream",
     "text": [
      "Powers of 2\n",
      "4\n",
      "8\n",
      "16\n",
      "Powers of 3\n",
      "9\n",
      "27\n",
      "81\n"
     ]
    }
   ],
   "source": [
    "# Create a list of callable functions\n",
    "L = [lambda x: x**2,\n",
    "     lambda x: x**3,\n",
    "     lambda x: x**4]\n",
    "\n",
    "print(\"Powers of 2\")\n",
    "for f in L:\n",
    "    print(f(2))\n",
    "    \n",
    "print(\"Powers of 3\")\n",
    "for f in L:\n",
    "    print(f(3))"
   ]
  },
  {
   "cell_type": "markdown",
   "metadata": {},
   "source": [
    "Think about alternative ways how to achieve this!\n",
    "\n",
    "A naive definition of a list containing powers would not work ..."
   ]
  },
  {
   "cell_type": "code",
   "execution_count": 28,
   "metadata": {},
   "outputs": [],
   "source": [
    "L = [x**2, x**3, x**4]"
   ]
  },
  {
   "cell_type": "markdown",
   "metadata": {},
   "source": [
    "... since the variable `x` is not defined when trying to define the list this throws an error. One actually wants to **defer** the execution of the contents of the list to a point when `x` is defined.\n",
    "\n",
    "One might alternatively define ordinary functions and put them into the list ..."
   ]
  },
  {
   "cell_type": "code",
   "execution_count": 29,
   "metadata": {},
   "outputs": [
    {
     "name": "stdout",
     "output_type": "stream",
     "text": [
      "Powers of 2\n",
      "4\n",
      "8\n",
      "16\n"
     ]
    }
   ],
   "source": [
    "def pow2(x): return x**2\n",
    "def pow3(x): return x**3\n",
    "def pow4(x): return x**4\n",
    "\n",
    "L = [pow2, pow3, pow4] # stuff function objects into list\n",
    "\n",
    "print(\"Powers of 2\")           \n",
    "for f in L:            # and loop over list\n",
    "    print(f(2))"
   ]
  },
  {
   "cell_type": "markdown",
   "metadata": {},
   "source": [
    "... which works but defines several named functions that are not needed or even wanted outside the particular context. The use ``lambda`` enforces **code proximity** that makes the code more understandable. In contrast, the definitions of of the `pow2`, `pow3`, and `pow4` functions can potentially be placed far away from the definition of the list."
   ]
  },
  {
   "cell_type": "markdown",
   "metadata": {},
   "source": [
    "### Lambda Function with if-else"
   ]
  },
  {
   "cell_type": "code",
   "execution_count": 43,
   "metadata": {},
   "outputs": [
    {
     "name": "stdout",
     "output_type": "stream",
     "text": [
      "2\n"
     ]
    }
   ],
   "source": [
    "# find the maximum of two integers.\n",
    "Max = lambda a, b : a if(a > b) else b\n",
    " \n",
    "print(Max(1, 2))"
   ]
  },
  {
   "cell_type": "markdown",
   "metadata": {},
   "source": [
    "### Lambda with Multiple Statements\n",
    "\n",
    "Lambda functions do not allow multiple statements, however, we can create two lambda functions and then call the other lambda function as a parameter to the first function. Let’s try to find the second maximum element using lambda."
   ]
  },
  {
   "cell_type": "code",
   "execution_count": 49,
   "metadata": {},
   "outputs": [
    {
     "name": "stdout",
     "output_type": "stream",
     "text": [
      "[3, 16, 9]\n"
     ]
    }
   ],
   "source": [
    "List = [[2,3,4],[1, 4, 16, 64],[3, 6, 9, 12]]\n",
    " \n",
    "# Sort each sublist\n",
    "sortList = lambda x: (sorted(i) for i in x)\n",
    " \n",
    "# Get the second largest element\n",
    "secondLargest = lambda x, f : [y[-2] for y in f(x)]\n",
    "res = secondLargest(List, sortList)\n",
    " \n",
    "print(res)"
   ]
  }
 ],
 "metadata": {
  "kernelspec": {
   "display_name": "Python 3 (ipykernel)",
   "language": "python",
   "name": "python3"
  },
  "language_info": {
   "codemirror_mode": {
    "name": "ipython",
    "version": 3
   },
   "file_extension": ".py",
   "mimetype": "text/x-python",
   "name": "python",
   "nbconvert_exporter": "python",
   "pygments_lexer": "ipython3",
   "version": "3.9.13"
  }
 },
 "nbformat": 4,
 "nbformat_minor": 1
}
