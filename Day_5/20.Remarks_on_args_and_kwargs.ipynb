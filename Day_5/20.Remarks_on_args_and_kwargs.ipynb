{
 "cells": [
  {
   "cell_type": "markdown",
   "metadata": {
    "slideshow": {
     "slide_type": "slide"
    }
   },
   "source": [
    "# Remarks on args and kwargs"
   ]
  },
  {
   "cell_type": "markdown",
   "metadata": {
    "slideshow": {
     "slide_type": "slide"
    }
   },
   "source": [
    "You may have seen in the documentation sometimes somewhat strange looking arguments called somthing like ``args`` and ``kwargs``. What are these? These provide ways of conveniently passing an arbitrary number of arguments to a function whose kind and number one does not know before-hand, or just allows one to pass-through arguments to functions called within another function. You may have already wondered how Python's *print()* function can handle the arbitrary number of parameters that one could pass to it. \n",
    "\n",
    "We see: since calling function is such a common task in Python (and other programming languages) it offers more possibilities than the simple association by position. "
   ]
  },
  {
   "cell_type": "markdown",
   "metadata": {},
   "source": [
    "One can pass arguments to functions in any order by using their names. The matching is not happening via the position but by their name."
   ]
  },
  {
   "cell_type": "code",
   "execution_count": null,
   "metadata": {},
   "outputs": [],
   "source": [
    "def printthree(a,b,c):\n",
    "    print(a,b,c)\n",
    "\n",
    "printthree(1, 2, 3)\n",
    "printthree(c=3, b=2, a=1)"
   ]
  },
  {
   "cell_type": "markdown",
   "metadata": {},
   "source": [
    "Note the difference to the usage in **functions definitions** where you can provide a **default value** to an **optional argument** by assigning a value to it."
   ]
  },
  {
   "cell_type": "code",
   "execution_count": null,
   "metadata": {},
   "outputs": [],
   "source": [
    "def printthree(a,b='Monty',c='Python'):\n",
    "    print(a,b,c)\n",
    "\n",
    "printthree('Watch')\n",
    "printthree('Watch', 'out')\n",
    "printthree('Count', c='in')"
   ]
  },
  {
   "cell_type": "code",
   "execution_count": null,
   "metadata": {},
   "outputs": [],
   "source": [
    "def printany(*args):\n",
    "    print(type(args))\n",
    "    for i in args: print(i)\n",
    "        \n",
    "printany(1,2,3)\n",
    "printany(1,2,3,4)"
   ]
  },
  {
   "cell_type": "markdown",
   "metadata": {},
   "source": [
    "From the above example one sees that the arguments of the function call are packed into a tuple which is called *args* in the body of the function. In fact, all positional arguments which are not matched during a call are packed into args - if specified.\n",
    "\n",
    "A downside of *printany()* is that the passed arguments are printed one above the other. What to do if one wants to get a behavior similar to Python's *print()* function? The solution is the **unpacking** of arguments by putting *&ast;args* in the argument list. The syntax is similar, but again, the difference is whether it is used in a function definition or when a function is called. "
   ]
  },
  {
   "cell_type": "code",
   "execution_count": null,
   "metadata": {},
   "outputs": [],
   "source": [
    "def printany(*args):\n",
    "    print(args)\n",
    "    print(*args)        # unpack argument automatically\n",
    "                        # works also on main program level\n",
    "\n",
    "printany(1,2,3)\n",
    "printany(1,2,3,4)"
   ]
  },
  {
   "cell_type": "markdown",
   "metadata": {},
   "source": [
    "Similarly, things are working for keyword arguments, however, now in the follwoing way:"
   ]
  },
  {
   "cell_type": "code",
   "execution_count": null,
   "metadata": {},
   "outputs": [],
   "source": [
    "def printanykeywords(**kwargs):\n",
    "    print(kwargs)\n",
    "    for key in kwargs: print(kwargs[key])  \n",
    "\n",
    "printanykeywords(a=1,b=2,c=3)\n",
    "printanykeywords(a=1,b=2,c=3,d=4)\n",
    "printanykeywords()"
   ]
  },
  {
   "cell_type": "markdown",
   "metadata": {},
   "source": [
    "We see that the keyword arguments are packed into a dictionary when passed to *printanykeywords()*. The function can then operate on this dictionary. Unpacking in function calls works the same way as in the case of positional arguments. When using both techniques, *args* and *kwargs* should be put at the end of a calling sequence in the order *(..., &ast;args, &ast;&ast;kwargs)*. And, in fact the names *args* and *kwargs* are arbitrary but became rather customary. In case of further curiosity: there is more to the handling of argument lists in Python (so called *annotations*) which clearly goes beyond of what we need in the course."
   ]
  },
  {
   "cell_type": "markdown",
   "metadata": {},
   "source": [
    "# Assignments involving iterables, here lists and tuples"
   ]
  },
  {
   "cell_type": "markdown",
   "metadata": {},
   "source": [
    "The ``*`` operator can also be used in assignment operations in which an *iterable* is  involved. An object is iterable  (andhence loosely called an *iterable*) that one can loop over them, e.g., ``range()`` is iterable. "
   ]
  },
  {
   "cell_type": "code",
   "execution_count": null,
   "metadata": {},
   "outputs": [],
   "source": [
    "a, *b = 1,2,3,4   # packs the last three value of tupel (1,2,3,4) into b\n",
    "print(a,b)"
   ]
  },
  {
   "cell_type": "markdown",
   "metadata": {},
   "source": [
    "This also works for dictionary **keys**."
   ]
  },
  {
   "cell_type": "code",
   "execution_count": null,
   "metadata": {},
   "outputs": [],
   "source": [
    "d = {'c':'do', 'd':'re', 'e':'mi', 'f':'fa'}\n",
    "a, *b = d\n",
    "print(a,b)"
   ]
  },
  {
   "cell_type": "markdown",
   "metadata": {},
   "source": [
    "The packing can also be located somewhere inthe middle of left-hand side."
   ]
  },
  {
   "cell_type": "code",
   "execution_count": null,
   "metadata": {},
   "outputs": [],
   "source": [
    "a, *b, c = d\n",
    "print(a,b,c)"
   ]
  },
  {
   "cell_type": "code",
   "execution_count": null,
   "metadata": {},
   "outputs": [],
   "source": [
    "a = [1,2,3]\n",
    "b = ['a', 'b', 'c']\n",
    "\n",
    "for i in range(len(b)):\n",
    "    print(i,x)"
   ]
  }
 ],
 "metadata": {
  "kernelspec": {
   "display_name": "Python 3 (ipykernel)",
   "language": "python",
   "name": "python3"
  },
  "language_info": {
   "codemirror_mode": {
    "name": "ipython",
    "version": 3
   },
   "file_extension": ".py",
   "mimetype": "text/x-python",
   "name": "python",
   "nbconvert_exporter": "python",
   "pygments_lexer": "ipython3",
   "version": "3.9.13"
  }
 },
 "nbformat": 4,
 "nbformat_minor": 1
}
