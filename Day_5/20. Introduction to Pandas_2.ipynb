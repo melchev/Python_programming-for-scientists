{
 "cells": [
  {
   "cell_type": "markdown",
   "id": "5165f5db",
   "metadata": {},
   "source": [
    "# Introduction to Pandas"
   ]
  },
  {
   "cell_type": "markdown",
   "id": "1d310fe0",
   "metadata": {},
   "source": [
    "## Introduction \n",
    "\n",
    "Pandas is a Python library used for working with data sets. It has functions for analysing, cleaning, exploring, and manipulating data. The name \"Pandas\" has a reference to both \"Panel Data\", and \"Python Data Analysis\" and was created by Wes McKinney in 2008.\n",
    "\n",
    "Some advantages of Pandas are:\n",
    "- Fast and efficient for manipulating and analyzing data\n",
    "- Data from different file objects can be loaded\n",
    "- Easy handling of missing data (represented as NaN)\n",
    "- Size mutability: columns can be inserted and deleted from DataFrame and higher dimensional objects\n",
    "- Data set merging and joining\n",
    "- Flexible reshaping and pivoting of data sets\n",
    "- Provides time-series functionality\n",
    "\n",
    "\n"
   ]
  },
  {
   "cell_type": "markdown",
   "id": "2dddf3bd",
   "metadata": {},
   "source": [
    "## Getting started\n",
    "\n",
    "If you have Python and Anaconda already installed on a system, then installation of Pandas is very easy.\n",
    "\n",
    "Install it using this command:"
   ]
  },
  {
   "cell_type": "markdown",
   "id": "3b7b1fbe",
   "metadata": {},
   "source": [
    "To load the pandas package and start working with it, import the package as:"
   ]
  },
  {
   "cell_type": "code",
   "execution_count": null,
   "id": "076d3d77",
   "metadata": {},
   "outputs": [],
   "source": [
    "import pandas as pd\n"
   ]
  },
  {
   "cell_type": "markdown",
   "id": "bd19a6ce",
   "metadata": {},
   "source": [
    "Pandas provide two data structures for manipulating data: Series and Data frames. We will focus on the second one in this introduction.\n",
    "\n",
    "Pandas DataFrame is a two-dimensional size-mutable, potentially heterogeneous tabular data structure with labeled axes (rows and columns). It consists of three principal components, the data, the rows, and the columns.\n",
    "\n",
    "Let's load a data frame and inspect it:"
   ]
  },
  {
   "cell_type": "code",
   "execution_count": null,
   "id": "b89ca0a1",
   "metadata": {},
   "outputs": [],
   "source": [
    "import os\n",
    "import json\n",
    "\n",
    "#!pip install kaggle\n",
    "\n",
    "!kaggle datasets list -s avocado --sort-by votes \n",
    "\n",
    " "
   ]
  },
  {
   "cell_type": "code",
   "execution_count": null,
   "id": "558eeae1",
   "metadata": {},
   "outputs": [],
   "source": [
    "\n",
    "f = open('/Users/aromanelli/Downloads/kaggle.json')\n",
    " \n",
    "# returns JSON object as \n",
    "# a dictionary\n",
    "data = json.load(f)\n",
    " \n",
    "# Iterate through the json\n",
    "\n",
    "for i in data:\n",
    "    print([i])\n",
    " \n",
    "f.close()\n",
    "\n",
    "username = data['username']\n",
    "key = data['key']\n",
    "\n",
    "#os.environ[\"KAGGLE_USERNAME\"] = username\n",
    "#os.environ[\"KAGGLE_KEY\"] = key\n",
    "\n",
    "#!kaggle datasets download -q neuromusic/avocado-prices\n",
    "#!unzip avocado-prices.zip  \n",
    "\n"
   ]
  },
  {
   "cell_type": "code",
   "execution_count": null,
   "id": "527b98bf",
   "metadata": {},
   "outputs": [],
   "source": [
    "avocado = pd.read_csv('/Users/aromanelli/Downloads/avocado.csv')\n",
    "avocado.head() # print the first few rows"
   ]
  },
  {
   "cell_type": "markdown",
   "id": "281fbd3b",
   "metadata": {},
   "source": [
    "In brief, the columns are:\n",
    "- Date — The date of the sale\n",
    "- AveragePrice — the average price of a single avocado\n",
    "- Total Volume — Total number of avocados sold\n",
    "- 4046 — Total number of avocados with PLU 4046 sold\n",
    "- 4225 — Total number of avocados with PLU 4225 sold\n",
    "- 4770 — Total number of avocados with PLU 4770 sold\n",
    "- Total Bags — Total number of bags sold\n",
    "- Small Bags — Number of small bags sold\n",
    "- Large Bags — Number of large bags sold\n",
    "- XLarge Bags — Number of extra-large bags sold\n",
    "- type — conventional or organic\n",
    "- year — the year of the sale\n",
    "- region — the city or region of the observation"
   ]
  },
  {
   "cell_type": "markdown",
   "id": "00d32fee",
   "metadata": {},
   "source": [
    "You can also create a data frame 'from scratch':"
   ]
  },
  {
   "cell_type": "code",
   "execution_count": null,
   "id": "a419adad",
   "metadata": {},
   "outputs": [],
   "source": [
    "df_passengers = pd.DataFrame(\n",
    "    {\n",
    "        \"Name\": [\"Braund, Mr. Owen Harris\",\n",
    "                 \"Allen, Mr. William Henry\",\n",
    "                 \"Bonnell, Miss. Elizabeth\"],\n",
    "        \"Age\": [22, 35, 58],\n",
    "        \"Sex\": [\"male\", \"male\", \"female\"],\n",
    "    }\n",
    ")\n",
    "\n",
    "df_passengers"
   ]
  },
  {
   "cell_type": "markdown",
   "id": "35efc858",
   "metadata": {},
   "source": [
    "## Exercise\n",
    "Different methods exist to inspect the dataframe and return statistical information. Try `.columns`, `index` (and not row!), ``.info()`` and ``.describe()`` on the `df` dataframe to answer the following questions:\n",
    "- How many rows and columns are in this data frame?\n",
    "- What type of data does the `year` column contains?\n",
    "- What period of time does that table cover?\n",
    "- What are the maximum and minimum average price?\n",
    "- What is the mean of the number of bags sold per sale?"
   ]
  },
  {
   "cell_type": "code",
   "execution_count": null,
   "id": "6781d1bd",
   "metadata": {},
   "outputs": [],
   "source": [
    "# Your code here"
   ]
  },
  {
   "cell_type": "markdown",
   "id": "a0567563",
   "metadata": {},
   "source": [
    "## Indexing, selecting"
   ]
  },
  {
   "cell_type": "markdown",
   "id": "4aa422e3",
   "metadata": {},
   "source": [
    "You can subset (a group of) individual columns:"
   ]
  },
  {
   "cell_type": "code",
   "execution_count": null,
   "id": "7e6808fc",
   "metadata": {},
   "outputs": [],
   "source": [
    "# One individual column\n",
    "df_passengers.Name\n",
    "# or using the indexing ([]) operator:\n",
    "df_passengers[\"Name\"]\n",
    "\n",
    "# Groups of column can be called as a list:\n",
    "#df_passengers[[\"Name\", \"Age\"]]\n"
   ]
  },
  {
   "cell_type": "markdown",
   "id": "9397adaa",
   "metadata": {},
   "source": [
    "Note that only the subset of the dataframe appears on your screen (the top 5 and bottom five values) for practical reasons.\n",
    "\n",
    "A specific value can be called as:"
   ]
  },
  {
   "cell_type": "code",
   "execution_count": null,
   "id": "a02bb50e",
   "metadata": {},
   "outputs": [],
   "source": [
    "df_passengers.Name[1]\n",
    "# or\n",
    "df_passengers[\"Name\"][1]"
   ]
  },
  {
   "cell_type": "markdown",
   "id": "ca39160c",
   "metadata": {},
   "source": [
    "It is also possible to modify specific columns of create new columns:"
   ]
  },
  {
   "cell_type": "code",
   "execution_count": null,
   "id": "9667c72a",
   "metadata": {},
   "outputs": [],
   "source": [
    "df_passengers['Year of birth'] = 2023 - df_passengers['Age']\n",
    "df_passengers"
   ]
  },
  {
   "cell_type": "markdown",
   "id": "bcaf9380",
   "metadata": {},
   "source": [
    "Individual rows can be selected based on the index, using `iloc`"
   ]
  },
  {
   "cell_type": "code",
   "execution_count": null,
   "id": "bf15298b",
   "metadata": {},
   "outputs": [],
   "source": [
    "df_passengers.iloc[0]\n",
    "df_passengers.iloc[[0, 2]]"
   ]
  },
  {
   "cell_type": "markdown",
   "id": "c7782d60",
   "metadata": {},
   "source": [
    "## Statistical information"
   ]
  },
  {
   "cell_type": "markdown",
   "id": "78e93a70",
   "metadata": {},
   "source": [
    "The summary functions mentionned above can also be applied to individual columns. Try the folowing commands: "
   ]
  },
  {
   "cell_type": "code",
   "execution_count": null,
   "id": "dab824d7",
   "metadata": {},
   "outputs": [],
   "source": [
    "print(df.year.describe())\n",
    "\n",
    "print(df.AveragePrice.mean())\n",
    "\n",
    "print(df.region.unique())"
   ]
  },
  {
   "cell_type": "markdown",
   "id": "1b8f9393",
   "metadata": {},
   "source": [
    "To compute the correlation coefficients between pairs of columns:"
   ]
  },
  {
   "cell_type": "code",
   "execution_count": null,
   "id": "0e7d9248",
   "metadata": {},
   "outputs": [],
   "source": [
    "subdf=df[['AveragePrice', 'Total Volume', 'Total Bags']]  # selecting a subset of the inital df\n",
    "subdf.corr()"
   ]
  },
  {
   "cell_type": "markdown",
   "id": "9f08e57b",
   "metadata": {},
   "source": [
    "As expected, there is a tight correlation between the total number of avocados sold (`Total Volume`) and the number of bags sold (`Total Bags`). The average price decreases slightly with an increasing volume."
   ]
  },
  {
   "cell_type": "markdown",
   "id": "e2f0fb3d",
   "metadata": {},
   "source": [
    "## Conditional selection"
   ]
  },
  {
   "cell_type": "markdown",
   "id": "d90445bd",
   "metadata": {},
   "source": [
    "So far we've been indexing various strides of data, using structural properties of the DataFrame itself. To do interesting things with the data, however, we often need to ask questions based on conditions.\n",
    "\n",
    "To select all the men in the above list:"
   ]
  },
  {
   "cell_type": "code",
   "execution_count": null,
   "id": "6c724676",
   "metadata": {},
   "outputs": [],
   "source": [
    "df_passengers.Sex == 'male'"
   ]
  },
  {
   "cell_type": "markdown",
   "id": "b3b9b8d4",
   "metadata": {},
   "source": [
    "This operation produced a Series of True/False booleans based on the country of each record. This result can then be used inside of loc to select the relevant data:"
   ]
  },
  {
   "cell_type": "code",
   "execution_count": null,
   "id": "52e043d3",
   "metadata": {},
   "outputs": [],
   "source": [
    "df_passengers[df_passengers.Sex == 'male']"
   ]
  },
  {
   "cell_type": "markdown",
   "id": "85af6125",
   "metadata": {},
   "source": [
    "## Exercise\n",
    "\n",
    "Add a column to the avocado dataframe indicating the total price for the sale.\n",
    "\n",
    "Determine how many avocado sales made in the region of Atlanta have reached a price above $700000."
   ]
  },
  {
   "cell_type": "code",
   "execution_count": null,
   "id": "ab24a86f",
   "metadata": {},
   "outputs": [],
   "source": [
    "# Your code here"
   ]
  },
  {
   "cell_type": "markdown",
   "id": "9b943876",
   "metadata": {},
   "source": [
    "## Grouping and sorting\n",
    "\n",
    "The `groupby` operation allows to group the data by the values in a specific column. \n",
    "\n",
    "We can then find for example the minimum average price per region, or per region and per year:"
   ]
  },
  {
   "cell_type": "code",
   "execution_count": null,
   "id": "90b61ab6",
   "metadata": {},
   "outputs": [],
   "source": [
    "avocado.groupby('region').AveragePrice.min()"
   ]
  },
  {
   "cell_type": "code",
   "execution_count": null,
   "id": "e031d448",
   "metadata": {},
   "outputs": [],
   "source": [
    "avocado.groupby(['region', 'year']).AveragePrice.min()"
   ]
  },
  {
   "cell_type": "markdown",
   "id": "485c6695",
   "metadata": {},
   "source": [
    "The `sort_values()` method can be used to sort the data in many ways:"
   ]
  },
  {
   "cell_type": "code",
   "execution_count": null,
   "id": "ac24231c",
   "metadata": {},
   "outputs": [],
   "source": [
    "avocado.sort_values(by='AveragePrice')"
   ]
  },
  {
   "cell_type": "markdown",
   "id": "979e0bf8",
   "metadata": {},
   "source": [
    "`sort_values()` defaults to an ascending sort, where the lowest values go first. However, sometimes we would prefer a descending order:"
   ]
  },
  {
   "cell_type": "code",
   "execution_count": null,
   "id": "c91f4b73",
   "metadata": {},
   "outputs": [],
   "source": [
    "avocado.sort_values(by='AveragePrice', ascending=False)"
   ]
  },
  {
   "cell_type": "markdown",
   "id": "16b35551",
   "metadata": {},
   "source": [
    "Finally, a dataframe can be sorted by more than one column at a time:"
   ]
  },
  {
   "cell_type": "code",
   "execution_count": null,
   "id": "c833161b",
   "metadata": {},
   "outputs": [],
   "source": [
    "avocado.sort_values(by=['type','AveragePrice'])"
   ]
  },
  {
   "cell_type": "markdown",
   "id": "184dd5be",
   "metadata": {},
   "source": [
    "## Exercise\n",
    "\n",
    "Compare the mean average price for organic and conventional avocados."
   ]
  },
  {
   "cell_type": "code",
   "execution_count": null,
   "id": "63de3216",
   "metadata": {},
   "outputs": [],
   "source": [
    "# Your code here"
   ]
  },
  {
   "cell_type": "markdown",
   "id": "458918ef",
   "metadata": {},
   "source": [
    "Create a new dataframe containing only the date of the sale, the average price and the region, sorted by date (from the most recent to the oldest one) and by total price (from the cheapeast to the most expensive)."
   ]
  },
  {
   "cell_type": "code",
   "execution_count": null,
   "id": "56baa7a8",
   "metadata": {},
   "outputs": [],
   "source": [
    "# Your code here"
   ]
  },
  {
   "cell_type": "markdown",
   "id": "12dab0b9",
   "metadata": {},
   "source": [
    "## Concatenation and Merging\n",
    "\n",
    "**pandas** provides various methods for combining together Series or DataFrame with various kinds of logic.\n",
    "\n",
    "The ``concat()`` function performs concatenation operations along an axis while performing optional set logic (union or intersection) of the indexes on the other axes.\n"
   ]
  },
  {
   "cell_type": "code",
   "execution_count": null,
   "id": "24e13983",
   "metadata": {},
   "outputs": [],
   "source": [
    "df1 = pd.DataFrame(\n",
    "    {\n",
    "        \"A\": [\"A0\", \"A1\", \"A2\", \"A3\"],\n",
    "        \"B\": [\"B0\", \"B1\", \"B2\", \"B3\"],\n",
    "        \"C\": [\"C0\", \"C1\", \"C2\", \"C3\"],\n",
    "        \"D\": [\"D0\", \"D1\", \"D2\", \"D3\"],\n",
    "    },\n",
    "    index=[0, 1, 2, 3],\n",
    ")\n",
    "\n",
    "\n",
    "df2 = pd.DataFrame(\n",
    "    {\n",
    "        \"A\": [\"A4\", \"A5\", \"A6\", \"A7\"],\n",
    "        \"B\": [\"B4\", \"B5\", \"B6\", \"B7\"],\n",
    "        \"C\": [\"C4\", \"C5\", \"C6\", \"C7\"],\n",
    "        \"D\": [\"D4\", \"D5\", \"D6\", \"D7\"],\n",
    "    },\n",
    "    index=[4, 5, 6, 7],\n",
    ")\n",
    "\n",
    "\n",
    "df3 = pd.DataFrame(\n",
    "    {\n",
    "        \"A\": [\"A8\", \"A9\", \"A10\", \"A11\"],\n",
    "        \"B\": [\"B8\", \"B9\", \"B10\", \"B11\"],\n",
    "        \"C\": [\"C8\", \"C9\", \"C10\", \"C11\"],\n",
    "        \"D\": [\"D8\", \"D9\", \"D10\", \"D11\"],\n",
    "    },\n",
    "    index=[8, 9, 10, 11],\n",
    ")\n",
    "\n",
    "\n",
    "frames = [df1, df2, df3]\n",
    "\n",
    "result = pd.concat(frames, keys=[\"x\", \"y\", \"z\"])\n"
   ]
  },
  {
   "cell_type": "markdown",
   "id": "ff89ebd6",
   "metadata": {},
   "source": [
    "How to handle the other axes ? \n",
    "\n",
    "This can be done in the following two ways:\n",
    "\n",
    "- Take the union of them all, join='outer'. This is the default option as it results in zero information loss\n",
    "\n",
    "- Take the intersection, join='inner'"
   ]
  },
  {
   "cell_type": "code",
   "execution_count": null,
   "id": "d35d1590",
   "metadata": {},
   "outputs": [],
   "source": [
    "df4 = pd.DataFrame(\n",
    "    {\n",
    "        \"B\": [\"B2\", \"B3\", \"B6\", \"B7\"],\n",
    "        \"D\": [\"D2\", \"D3\", \"D6\", \"D7\"],\n",
    "        \"F\": [\"F2\", \"F3\", \"F6\", \"F7\"],\n",
    "    },\n",
    "    index=[2, 3, 6, 7],\n",
    ")\n",
    "result = pd.concat([df1, df4], axis=1, join=\"inner\")\n"
   ]
  },
  {
   "cell_type": "markdown",
   "id": "af485d5c",
   "metadata": {},
   "source": [
    "**pandas** provides a single function, `merge()`, as the entry point for all standard database join operations between DataFrame objects:\n",
    "\n",
    "![Alt text](image-2.png)"
   ]
  },
  {
   "cell_type": "code",
   "execution_count": null,
   "id": "cde3fdba",
   "metadata": {},
   "outputs": [],
   "source": [
    "left = pd.DataFrame(\n",
    "    {\n",
    "        \"key1\": [\"K0\", \"K0\", \"K1\", \"K2\"],\n",
    "        \"key2\": [\"K0\", \"K1\", \"K0\", \"K1\"],\n",
    "        \"A\": [\"A0\", \"A1\", \"A2\", \"A3\"],\n",
    "        \"B\": [\"B0\", \"B1\", \"B2\", \"B3\"],\n",
    "    }\n",
    ")\n",
    "\n",
    "\n",
    "right = pd.DataFrame(\n",
    "    {\n",
    "        \"key1\": [\"K0\", \"K1\", \"K1\", \"K2\"],\n",
    "        \"key2\": [\"K0\", \"K0\", \"K0\", \"K0\"],\n",
    "        \"C\": [\"C0\", \"C1\", \"C2\", \"C3\"],\n",
    "        \"D\": [\"D0\", \"D1\", \"D2\", \"D3\"],\n",
    "    }\n",
    ")\n",
    "\n",
    "result = pd.merge(left, right, how=\"outer\", on=[\"key1\", \"key2\"])\n",
    "result"
   ]
  },
  {
   "cell_type": "markdown",
   "id": "45c639aa",
   "metadata": {},
   "source": [
    "## Exercise"
   ]
  },
  {
   "cell_type": "markdown",
   "id": "9cfcd8c4",
   "metadata": {},
   "source": [
    "Dowload the following dataset, using Kaggle API:\n",
    "\n",
    "Name: data science for good kiva crowdfunding\n",
    "Owner : kiva\n",
    "\n",
    "Do some exploratory analysis on the loans.csv dataset:\n",
    "- print the name of the columns and data types using built-in pandas functions\n",
    "- extract some stats on the loans (counts, average loan, total amount funded), grouped by sector, country and both. \n",
    "- Add a column for the relative amount of loan funded wrt the total sum \n",
    "- Sort the values based on the total amount funded.\n",
    "\n",
    "Use the merging method to glue different .csv files:\n",
    "\n",
    "- do a join with the theme_ids.csv file, on the 'id' key and save the result of the join as a new dataframe\n",
    "- join the result fo the previous point with the theme_by_region.csv file, this time using multiple keys: region, country, Loan Theme ID, Partner ID\n",
    "\n"
   ]
  },
  {
   "cell_type": "markdown",
   "id": "4929a46b",
   "metadata": {},
   "source": [
    "## Windowing"
   ]
  },
  {
   "cell_type": "markdown",
   "id": "25d1a371",
   "metadata": {},
   "source": [
    "**pandas** contains a set of methods for performing windowing operations - an operation that performs an aggregation over a sliding partition of values. The method functions similarly to the **groupby**  in that Series and DataFrame call the windowing method with necessary parameters and then subsequently call the aggregation function.\n",
    "\n",
    "**pandas** supports 4 types of windowing operations:\n",
    "\n",
    "- Rolling window: Generic fixed or variable sliding window over the values.\n",
    "- Weighted window: Weighted, non-rectangular window \n",
    "- Expanding window: Accumulating window over the values.\n",
    "- Exponentially Weighted window: Accumulating and exponentially weighted window over the values."
   ]
  },
  {
   "cell_type": "code",
   "execution_count": null,
   "id": "805a125d",
   "metadata": {},
   "outputs": [],
   "source": [
    "s = pd.Series(range(5), index=pd.date_range('2023-01-01', periods=5, freq='1D'))\n",
    "s\n",
    "s.rolling(window='2D').sum()\n"
   ]
  },
  {
   "cell_type": "markdown",
   "id": "1a6d507e",
   "metadata": {},
   "source": [
    "\n",
    "## Exercise \n",
    "Download this dataset:\n",
    "\n",
    "`akashram/indian-summer-over-the-years`\n",
    "\n",
    "After an Exploratory Data Analysis (EDA), use the window APIs to calculate and plot a median trend of the temperature measurements in India (see 'Median Filter' on Wikipedia).\n",
    "\n",
    "The window method can be chained after a groupby. Make use of the chaining, to plot a median trend of the temperature per city. \n",
    "\n",
    "For the EDA: Pandas supports some APIs for plotting using Matplotlib. Try using `df.hist()` or `df.plot()`, along with additional parameters, to see how to properly and efficiently plot the columns of a Dataframe."
   ]
  },
  {
   "cell_type": "markdown",
   "id": "8eadb84c",
   "metadata": {},
   "source": []
  }
 ],
 "metadata": {
  "kernelspec": {
   "display_name": "Python 3 (ipykernel)",
   "language": "python",
   "name": "python3"
  },
  "language_info": {
   "codemirror_mode": {
    "name": "ipython",
    "version": 3
   },
   "file_extension": ".py",
   "mimetype": "text/x-python",
   "name": "python",
   "nbconvert_exporter": "python",
   "pygments_lexer": "ipython3",
   "version": "3.11.4"
  }
 },
 "nbformat": 4,
 "nbformat_minor": 5
}
