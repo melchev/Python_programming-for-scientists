{
 "cells": [
  {
   "cell_type": "markdown",
   "id": "5165f5db",
   "metadata": {},
   "source": [
    "# Introduction to Pandas"
   ]
  },
  {
   "cell_type": "markdown",
   "id": "1d310fe0",
   "metadata": {},
   "source": [
    "## Introduction \n",
    "\n",
    "Pandas is a Python library used for working with data sets. It has functions for analysing, cleaning, exploring, and manipulating data. The name \"Pandas\" has a reference to both \"Panel Data\", and \"Python Data Analysis\" and was created by Wes McKinney in 2008.\n",
    "\n",
    "Some advantages of Pandas are:\n",
    "- Fast and efficient for manipulating and analyzing data\n",
    "- Data from different file objects can be loaded\n",
    "- Easy handling of missing data (represented as NaN)\n",
    "- Size mutability: columns can be inserted and deleted from DataFrame and higher dimensional objects\n",
    "- Data set merging and joining\n",
    "- Flexible reshaping and pivoting of data sets\n",
    "- Provides time-series functionality\n",
    "\n",
    "\n"
   ]
  },
  {
   "cell_type": "markdown",
   "id": "2dddf3bd",
   "metadata": {},
   "source": [
    "## Getting started\n",
    "\n",
    "If you have Python and Anaconda already installed on a system, then installation of Pandas is very easy.\n",
    "\n",
    "Install it using this command:"
   ]
  },
  {
   "cell_type": "code",
   "execution_count": null,
   "id": "d8c05ef9",
   "metadata": {},
   "outputs": [],
   "source": [
    "#  conda install pandas"
   ]
  },
  {
   "cell_type": "markdown",
   "id": "3b7b1fbe",
   "metadata": {},
   "source": [
    "To load the pandas package and start working with it, import the package as:"
   ]
  },
  {
   "cell_type": "code",
   "execution_count": 1,
   "id": "076d3d77",
   "metadata": {},
   "outputs": [],
   "source": [
    "import pandas as pd"
   ]
  },
  {
   "cell_type": "markdown",
   "id": "bd19a6ce",
   "metadata": {},
   "source": [
    "Pandas provide two data structures for manipulating data: Series and Data frames. We will focus on the second one in this introduction.\n",
    "\n",
    "Pandas DataFrame is a two-dimensional size-mutable, potentially heterogeneous tabular data structure with labeled axes (rows and columns). It consists of three principal components, the data, the rows, and the columns.\n",
    "\n",
    "Let's load a data frame and inspect it:"
   ]
  },
  {
   "cell_type": "code",
   "execution_count": 2,
   "id": "527b98bf",
   "metadata": {},
   "outputs": [
    {
     "data": {
      "text/html": [
       "<div>\n",
       "<style scoped>\n",
       "    .dataframe tbody tr th:only-of-type {\n",
       "        vertical-align: middle;\n",
       "    }\n",
       "\n",
       "    .dataframe tbody tr th {\n",
       "        vertical-align: top;\n",
       "    }\n",
       "\n",
       "    .dataframe thead th {\n",
       "        text-align: right;\n",
       "    }\n",
       "</style>\n",
       "<table border=\"1\" class=\"dataframe\">\n",
       "  <thead>\n",
       "    <tr style=\"text-align: right;\">\n",
       "      <th></th>\n",
       "      <th>Unnamed: 0</th>\n",
       "      <th>Date</th>\n",
       "      <th>AveragePrice</th>\n",
       "      <th>Total Volume</th>\n",
       "      <th>4046</th>\n",
       "      <th>4225</th>\n",
       "      <th>4770</th>\n",
       "      <th>Total Bags</th>\n",
       "      <th>Small Bags</th>\n",
       "      <th>Large Bags</th>\n",
       "      <th>XLarge Bags</th>\n",
       "      <th>type</th>\n",
       "      <th>year</th>\n",
       "      <th>region</th>\n",
       "    </tr>\n",
       "  </thead>\n",
       "  <tbody>\n",
       "    <tr>\n",
       "      <th>0</th>\n",
       "      <td>0</td>\n",
       "      <td>2015-12-27</td>\n",
       "      <td>1.33</td>\n",
       "      <td>64236.62</td>\n",
       "      <td>1036.74</td>\n",
       "      <td>54454.85</td>\n",
       "      <td>48.16</td>\n",
       "      <td>8696.87</td>\n",
       "      <td>8603.62</td>\n",
       "      <td>93.25</td>\n",
       "      <td>0.0</td>\n",
       "      <td>conventional</td>\n",
       "      <td>2015</td>\n",
       "      <td>Albany</td>\n",
       "    </tr>\n",
       "    <tr>\n",
       "      <th>1</th>\n",
       "      <td>1</td>\n",
       "      <td>2015-12-20</td>\n",
       "      <td>1.35</td>\n",
       "      <td>54876.98</td>\n",
       "      <td>674.28</td>\n",
       "      <td>44638.81</td>\n",
       "      <td>58.33</td>\n",
       "      <td>9505.56</td>\n",
       "      <td>9408.07</td>\n",
       "      <td>97.49</td>\n",
       "      <td>0.0</td>\n",
       "      <td>conventional</td>\n",
       "      <td>2015</td>\n",
       "      <td>Albany</td>\n",
       "    </tr>\n",
       "    <tr>\n",
       "      <th>2</th>\n",
       "      <td>2</td>\n",
       "      <td>2015-12-13</td>\n",
       "      <td>0.93</td>\n",
       "      <td>118220.22</td>\n",
       "      <td>794.70</td>\n",
       "      <td>109149.67</td>\n",
       "      <td>130.50</td>\n",
       "      <td>8145.35</td>\n",
       "      <td>8042.21</td>\n",
       "      <td>103.14</td>\n",
       "      <td>0.0</td>\n",
       "      <td>conventional</td>\n",
       "      <td>2015</td>\n",
       "      <td>Albany</td>\n",
       "    </tr>\n",
       "    <tr>\n",
       "      <th>3</th>\n",
       "      <td>3</td>\n",
       "      <td>2015-12-06</td>\n",
       "      <td>1.08</td>\n",
       "      <td>78992.15</td>\n",
       "      <td>1132.00</td>\n",
       "      <td>71976.41</td>\n",
       "      <td>72.58</td>\n",
       "      <td>5811.16</td>\n",
       "      <td>5677.40</td>\n",
       "      <td>133.76</td>\n",
       "      <td>0.0</td>\n",
       "      <td>conventional</td>\n",
       "      <td>2015</td>\n",
       "      <td>Albany</td>\n",
       "    </tr>\n",
       "    <tr>\n",
       "      <th>4</th>\n",
       "      <td>4</td>\n",
       "      <td>2015-11-29</td>\n",
       "      <td>1.28</td>\n",
       "      <td>51039.60</td>\n",
       "      <td>941.48</td>\n",
       "      <td>43838.39</td>\n",
       "      <td>75.78</td>\n",
       "      <td>6183.95</td>\n",
       "      <td>5986.26</td>\n",
       "      <td>197.69</td>\n",
       "      <td>0.0</td>\n",
       "      <td>conventional</td>\n",
       "      <td>2015</td>\n",
       "      <td>Albany</td>\n",
       "    </tr>\n",
       "  </tbody>\n",
       "</table>\n",
       "</div>"
      ],
      "text/plain": [
       "   Unnamed: 0        Date  AveragePrice  Total Volume     4046       4225  \\\n",
       "0           0  2015-12-27          1.33      64236.62  1036.74   54454.85   \n",
       "1           1  2015-12-20          1.35      54876.98   674.28   44638.81   \n",
       "2           2  2015-12-13          0.93     118220.22   794.70  109149.67   \n",
       "3           3  2015-12-06          1.08      78992.15  1132.00   71976.41   \n",
       "4           4  2015-11-29          1.28      51039.60   941.48   43838.39   \n",
       "\n",
       "     4770  Total Bags  Small Bags  Large Bags  XLarge Bags          type  \\\n",
       "0   48.16     8696.87     8603.62       93.25          0.0  conventional   \n",
       "1   58.33     9505.56     9408.07       97.49          0.0  conventional   \n",
       "2  130.50     8145.35     8042.21      103.14          0.0  conventional   \n",
       "3   72.58     5811.16     5677.40      133.76          0.0  conventional   \n",
       "4   75.78     6183.95     5986.26      197.69          0.0  conventional   \n",
       "\n",
       "   year  region  \n",
       "0  2015  Albany  \n",
       "1  2015  Albany  \n",
       "2  2015  Albany  \n",
       "3  2015  Albany  \n",
       "4  2015  Albany  "
      ]
     },
     "execution_count": 2,
     "metadata": {},
     "output_type": "execute_result"
    }
   ],
   "source": [
    "df = pd.read_csv('data/avocado.csv')\n",
    "df.head() # print the first few rows"
   ]
  },
  {
   "cell_type": "markdown",
   "id": "281fbd3b",
   "metadata": {},
   "source": [
    "In brief, the columns are:\n",
    "- Date — The date of the sale\n",
    "- AveragePrice — the average price of a single avocado\n",
    "- Total Volume — Total number of avocados sold\n",
    "- 4046 — Total number of avocados with PLU 4046 sold\n",
    "- 4225 — Total number of avocados with PLU 4225 sold\n",
    "- 4770 — Total number of avocados with PLU 4770 sold\n",
    "- Total Bags — Total number of bags sold\n",
    "- Small Bags — Number of small bags sold\n",
    "- Large Bags — Number of large bags sold\n",
    "- XLarge Bags — Number of extra-large bags sold\n",
    "- type — conventional or organic\n",
    "- year — the year of the sale\n",
    "- region — the city or region of the observation"
   ]
  },
  {
   "cell_type": "markdown",
   "id": "00d32fee",
   "metadata": {},
   "source": [
    "You can also create a data frame 'from scratch':"
   ]
  },
  {
   "cell_type": "code",
   "execution_count": 3,
   "id": "a419adad",
   "metadata": {},
   "outputs": [
    {
     "data": {
      "text/html": [
       "<div>\n",
       "<style scoped>\n",
       "    .dataframe tbody tr th:only-of-type {\n",
       "        vertical-align: middle;\n",
       "    }\n",
       "\n",
       "    .dataframe tbody tr th {\n",
       "        vertical-align: top;\n",
       "    }\n",
       "\n",
       "    .dataframe thead th {\n",
       "        text-align: right;\n",
       "    }\n",
       "</style>\n",
       "<table border=\"1\" class=\"dataframe\">\n",
       "  <thead>\n",
       "    <tr style=\"text-align: right;\">\n",
       "      <th></th>\n",
       "      <th>Name</th>\n",
       "      <th>Age</th>\n",
       "      <th>Sex</th>\n",
       "    </tr>\n",
       "  </thead>\n",
       "  <tbody>\n",
       "    <tr>\n",
       "      <th>0</th>\n",
       "      <td>Braund, Mr. Owen Harris</td>\n",
       "      <td>22</td>\n",
       "      <td>male</td>\n",
       "    </tr>\n",
       "    <tr>\n",
       "      <th>1</th>\n",
       "      <td>Allen, Mr. William Henry</td>\n",
       "      <td>35</td>\n",
       "      <td>male</td>\n",
       "    </tr>\n",
       "    <tr>\n",
       "      <th>2</th>\n",
       "      <td>Bonnell, Miss. Elizabeth</td>\n",
       "      <td>58</td>\n",
       "      <td>female</td>\n",
       "    </tr>\n",
       "  </tbody>\n",
       "</table>\n",
       "</div>"
      ],
      "text/plain": [
       "                       Name  Age     Sex\n",
       "0   Braund, Mr. Owen Harris   22    male\n",
       "1  Allen, Mr. William Henry   35    male\n",
       "2  Bonnell, Miss. Elizabeth   58  female"
      ]
     },
     "execution_count": 3,
     "metadata": {},
     "output_type": "execute_result"
    }
   ],
   "source": [
    "df_passengers = pd.DataFrame(\n",
    "    {\n",
    "        \"Name\": [\"Braund, Mr. Owen Harris\",\n",
    "                 \"Allen, Mr. William Henry\",\n",
    "                 \"Bonnell, Miss. Elizabeth\"],\n",
    "        \"Age\": [22, 35, 58],\n",
    "        \"Sex\": [\"male\", \"male\", \"female\"],\n",
    "    }\n",
    ")\n",
    "\n",
    "df_passengers"
   ]
  },
  {
   "cell_type": "markdown",
   "id": "35efc858",
   "metadata": {},
   "source": [
    "## Exercise\n",
    "Different methods exist to inspect the dataframe and return statistical information. Try `.columns`, `index` (and not row!), ``.info()`` and ``.describe()`` on the `df` dataframe to answer the following questions:\n",
    "- How many rows and columns are in this data frame?\n",
    "- What type of data does the `year` column contains?\n",
    "- What period of time does that table cover?\n",
    "- What are the maximum and minimum average price?\n",
    "- What is the mean of the number of bags sold per sale?"
   ]
  },
  {
   "cell_type": "code",
   "execution_count": null,
   "id": "6781d1bd",
   "metadata": {},
   "outputs": [],
   "source": [
    "# Your code here"
   ]
  },
  {
   "cell_type": "markdown",
   "id": "a0567563",
   "metadata": {},
   "source": [
    "## Indexing, selecting"
   ]
  },
  {
   "cell_type": "markdown",
   "id": "4aa422e3",
   "metadata": {},
   "source": [
    "You can subset (a group of) individual columns:"
   ]
  },
  {
   "cell_type": "code",
   "execution_count": null,
   "id": "7e6808fc",
   "metadata": {},
   "outputs": [],
   "source": [
    "# One individual column\n",
    "df_passengers.Name\n",
    "# or using the indexing ([]) operator:\n",
    "df_passengers[\"Name\"]\n",
    "\n",
    "# Groups of column can be called as a list:\n",
    "df_passengers[[\"Name\", \"Age\"]]\n"
   ]
  },
  {
   "cell_type": "markdown",
   "id": "9397adaa",
   "metadata": {},
   "source": [
    "Note that only the subset of the dataframe appears on your screen (the top 5 and bottom five values) for practical reasons.\n",
    "\n",
    "A specific value can be called as:"
   ]
  },
  {
   "cell_type": "code",
   "execution_count": null,
   "id": "a02bb50e",
   "metadata": {},
   "outputs": [],
   "source": [
    "df_passengers.Name[1]\n",
    "# or\n",
    "df_passengers[\"Name\"][1]"
   ]
  },
  {
   "cell_type": "markdown",
   "id": "ca39160c",
   "metadata": {},
   "source": [
    "It is also possible to modify specific columns of create new columns:"
   ]
  },
  {
   "cell_type": "code",
   "execution_count": null,
   "id": "9667c72a",
   "metadata": {},
   "outputs": [],
   "source": [
    "df_passengers['Year of birth'] = 2023 - df_passengers['Age']\n",
    "df_passengers"
   ]
  },
  {
   "cell_type": "markdown",
   "id": "bcaf9380",
   "metadata": {},
   "source": [
    "Individual rows can be selected based on the index, using `iloc`"
   ]
  },
  {
   "cell_type": "code",
   "execution_count": null,
   "id": "bf15298b",
   "metadata": {},
   "outputs": [],
   "source": [
    "df_passengers.iloc[0]\n",
    "df_passengers.iloc[[0, 2]]"
   ]
  },
  {
   "cell_type": "markdown",
   "id": "c7782d60",
   "metadata": {},
   "source": [
    "## Statistical information"
   ]
  },
  {
   "cell_type": "markdown",
   "id": "78e93a70",
   "metadata": {},
   "source": [
    "The summary functions mentionned above can also be applied to individual columns. Try the folowing commands: "
   ]
  },
  {
   "cell_type": "code",
   "execution_count": null,
   "id": "dab824d7",
   "metadata": {},
   "outputs": [],
   "source": [
    "print(df.year.describe())\n",
    "\n",
    "print(df.AveragePrice.mean())\n",
    "\n",
    "print(df.region.unique())"
   ]
  },
  {
   "cell_type": "markdown",
   "id": "1b8f9393",
   "metadata": {},
   "source": [
    "To compute the correlation coefficients between pairs of columns:"
   ]
  },
  {
   "cell_type": "code",
   "execution_count": null,
   "id": "0e7d9248",
   "metadata": {},
   "outputs": [],
   "source": [
    "subdf=df[['AveragePrice', 'Total Volume', 'Total Bags']]  # selecting a subset of the inital df\n",
    "subdf.corr()"
   ]
  },
  {
   "cell_type": "markdown",
   "id": "9f08e57b",
   "metadata": {},
   "source": [
    "As expected, there is a tight correlation between the total number of avocados sold (`Total Volume`) and the number of bags sold (`Total Bags`). The average price decreases slightly with an increasing volume."
   ]
  },
  {
   "cell_type": "markdown",
   "id": "e2f0fb3d",
   "metadata": {},
   "source": [
    "## Conditional selection"
   ]
  },
  {
   "cell_type": "markdown",
   "id": "d90445bd",
   "metadata": {},
   "source": [
    "So far we've been indexing various strides of data, using structural properties of the DataFrame itself. To do interesting things with the data, however, we often need to ask questions based on conditions.\n",
    "\n",
    "To select all the men in the above list:"
   ]
  },
  {
   "cell_type": "code",
   "execution_count": null,
   "id": "6c724676",
   "metadata": {},
   "outputs": [],
   "source": [
    "df_passengers.Sex == 'male'"
   ]
  },
  {
   "cell_type": "markdown",
   "id": "b3b9b8d4",
   "metadata": {},
   "source": [
    "This operation produced a Series of True/False booleans based on the country of each record. This result can then be used inside of loc to select the relevant data:"
   ]
  },
  {
   "cell_type": "code",
   "execution_count": null,
   "id": "52e043d3",
   "metadata": {},
   "outputs": [],
   "source": [
    "df_passengers[df_passengers.Sex == 'male']"
   ]
  },
  {
   "cell_type": "markdown",
   "id": "85af6125",
   "metadata": {},
   "source": [
    "## Exercise\n",
    "\n",
    "Add a column to the avocado dataframe indicating the total price for the sale.\n",
    "\n",
    "Determine how many avocado sales made in the region of Atlanta have reached a price above $700000."
   ]
  },
  {
   "cell_type": "code",
   "execution_count": null,
   "id": "ab24a86f",
   "metadata": {},
   "outputs": [],
   "source": [
    "# Your code here"
   ]
  },
  {
   "cell_type": "markdown",
   "id": "9b943876",
   "metadata": {},
   "source": [
    "## Grouping and sorting\n",
    "\n",
    "The `groupby` operation allows to group the data by the values in a specific column. \n",
    "\n",
    "We can then find for example the minimum average price per region, or per region and per year:"
   ]
  },
  {
   "cell_type": "markdown",
   "id": "b0a01da9",
   "metadata": {},
   "source": [
    "\n"
   ]
  },
  {
   "cell_type": "code",
   "execution_count": null,
   "id": "90b61ab6",
   "metadata": {},
   "outputs": [],
   "source": [
    "df.groupby('region').AveragePrice.min()"
   ]
  },
  {
   "cell_type": "code",
   "execution_count": null,
   "id": "e031d448",
   "metadata": {},
   "outputs": [],
   "source": [
    "df.groupby(['region', 'year']).AveragePrice.min()"
   ]
  },
  {
   "cell_type": "markdown",
   "id": "485c6695",
   "metadata": {},
   "source": [
    "The `sort_values()` method can be used to sort the data in many ways:"
   ]
  },
  {
   "cell_type": "code",
   "execution_count": null,
   "id": "ac24231c",
   "metadata": {},
   "outputs": [],
   "source": [
    "df.sort_values(by='AveragePrice')"
   ]
  },
  {
   "cell_type": "markdown",
   "id": "979e0bf8",
   "metadata": {},
   "source": [
    "`sort_values()` defaults to an ascending sort, where the lowest values go first. However, sometimes we would prefer a descending order:"
   ]
  },
  {
   "cell_type": "code",
   "execution_count": null,
   "id": "c91f4b73",
   "metadata": {},
   "outputs": [],
   "source": [
    "df.sort_values(by='AveragePrice', ascending=False)"
   ]
  },
  {
   "cell_type": "markdown",
   "id": "16b35551",
   "metadata": {},
   "source": [
    "Finally, a dataframe can be sorted by more than one column at a time:"
   ]
  },
  {
   "cell_type": "code",
   "execution_count": null,
   "id": "c833161b",
   "metadata": {},
   "outputs": [],
   "source": [
    "df.sort_values(by=['type','AveragePrice'])"
   ]
  },
  {
   "cell_type": "markdown",
   "id": "184dd5be",
   "metadata": {},
   "source": [
    "## Exercise\n",
    "\n",
    "Compare the mean average price for organic and conventional avocados."
   ]
  },
  {
   "cell_type": "code",
   "execution_count": null,
   "id": "63de3216",
   "metadata": {},
   "outputs": [],
   "source": [
    "# Your code here"
   ]
  },
  {
   "cell_type": "markdown",
   "id": "458918ef",
   "metadata": {},
   "source": [
    "Create a new dataframe containing only the date of the sale, the average price and the region, sorted by date (from the most recent to the oldest one) and by total price (from the cheapeast to the most expensive)."
   ]
  },
  {
   "cell_type": "code",
   "execution_count": null,
   "id": "56baa7a8",
   "metadata": {},
   "outputs": [],
   "source": [
    "# Your code here"
   ]
  }
 ],
 "metadata": {
  "kernelspec": {
   "display_name": "Python 3 (ipykernel)",
   "language": "python",
   "name": "python3"
  },
  "language_info": {
   "codemirror_mode": {
    "name": "ipython",
    "version": 3
   },
   "file_extension": ".py",
   "mimetype": "text/x-python",
   "name": "python",
   "nbconvert_exporter": "python",
   "pygments_lexer": "ipython3",
   "version": "3.9.13"
  }
 },
 "nbformat": 4,
 "nbformat_minor": 5
}
