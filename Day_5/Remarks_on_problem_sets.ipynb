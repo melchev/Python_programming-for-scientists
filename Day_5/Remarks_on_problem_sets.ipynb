{
 "cells": [
  {
   "cell_type": "markdown",
   "metadata": {},
   "source": [
    "# Remarks on problem sets"
   ]
  },
  {
   "cell_type": "markdown",
   "metadata": {},
   "source": [
    "- Comments are helpful and important, both for me and for you in the future.\n",
    "\n",
    "- Giving *sensible names* to the variables is incredibly useful to understand a code.\n",
    "\n",
    "- Mind the data directory structure. It should not be changed without good reason.\n",
    "\n",
    "- Sometimes the students are asked to create functions with a certain name. That is to keep all codes more or less standarized so they are more easily understood later. One can create new functions, but *keeping the name* of the ones that were asked for.\n",
    "\n",
    "- Use of internet and stackoverflow: it is ok to look for documentation and how functions works, but not to copy snippets of code.\n"
   ]
  },
  {
   "cell_type": "markdown",
   "metadata": {},
   "source": [
    "# Finding input files\n",
    "\n",
    "It is a recurrent problem that input files are not found, or a noteook is not working if put in another place or machine (e.g., when it is handed in as a solution to an exercise). In order to avoid having to scan the whole notebook and changing file paths, I suggest to add at the beginning **two Python variables** that are strings of the path to the directory in which the input file is located. In the course there are only two places."
   ]
  },
  {
   "cell_type": "code",
   "execution_count": null,
   "metadata": {},
   "outputs": [],
   "source": [
    "path_data     = 'data/'               # directory with small input files\n",
    "path_ice_data = 'data/ice_data_2019/' # directory with ice maps"
   ]
  },
  {
   "cell_type": "markdown",
   "metadata": {
    "collapsed": true
   },
   "source": [
    "Afterwards use in Python statements like \n",
    "\n",
    "    f = open(path_data + 'bla.txt', ...) \n",
    "\n",
    "to open a file.\n",
    "\n",
    "Note that the trailing '/' makes it possible to prepend the path to the filename without having to extra insert a '/' (on Windows machines you use '\\\\'). Further note, that the path is given **relative to your current working directory**, i.e. where your notebook file is located."
   ]
  }
 ],
 "metadata": {
  "kernelspec": {
   "display_name": "Python 3 (ipykernel)",
   "language": "python",
   "name": "python3"
  },
  "language_info": {
   "codemirror_mode": {
    "name": "ipython",
    "version": 3
   },
   "file_extension": ".py",
   "mimetype": "text/x-python",
   "name": "python",
   "nbconvert_exporter": "python",
   "pygments_lexer": "ipython3",
   "version": "3.9.13"
  }
 },
 "nbformat": 4,
 "nbformat_minor": 1
}
