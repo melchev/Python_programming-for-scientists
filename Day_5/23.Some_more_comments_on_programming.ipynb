{
 "cells": [
  {
   "cell_type": "markdown",
   "metadata": {},
   "source": [
    "# Some more comments on programming"
   ]
  },
  {
   "cell_type": "markdown",
   "metadata": {},
   "source": [
    "As stated several times before, **reading** the documentation on functions/methods/objects in the Python system  and on the web is a good idea. Here, two suggestions for further reading - yes, I am talking so-called **books** here:"
   ]
  },
  {
   "cell_type": "markdown",
   "metadata": {},
   "source": [
    "+ Mark Lutz: *Learning Python*, 5th edition, O'Reilly 2013\n",
    "\n",
    "  - a real \"brick\" of 1500 pages, didactically well written, many examples \n",
    "  - giving *background* why the things in Python are the way they are\n",
    "  - unfortunately a little bit outdated since only covering things up to Python 3.3\n",
    "  - most of the wisdom of your lecturer on Python comes from this book"
   ]
  },
  {
   "cell_type": "markdown",
   "metadata": {},
   "source": [
    "+ Christian Hill: *Learning Scientific Programming with Python*, 2nd edition, Cambridge University Press 2020\n",
    "  - besides general programming contains, things on Matplotlib, Numpy, Scipy, Pandas\n",
    "  - compact and - in comparison to the book above - more hands-on, useful!  "
   ]
  },
  {
   "cell_type": "markdown",
   "metadata": {},
   "source": [
    "### \"Pearls\" of experienced programmers I picked up - or experienced myself"
   ]
  },
  {
   "cell_type": "markdown",
   "metadata": {},
   "source": [
    "+ If possible, program in steps. Having two bugs (or even more) in a program simultaneously makes finding just one of them exponentially harder. (me, yesterday)\n",
    "\n",
    "+ Read the error messages, and try to make sense of what the computer wants to tell you. (me, also yesterday)\n",
    "\n",
    "+ Usually, the actual bug lies in a direction orthogonal to the direction you are currently seaching for it. (A. Nordlund, ~1997)\n",
    "\n",
    "  In other words: be always aware that you might be on the wrong track.\n",
    "\n",
    "+ If I have battled with a hard bug without finding it, to my experience the best debugging method is to stop, go for a coffee or tea, and return later. (D. Schwarz, ~1990)\n",
    "\n",
    "  In other words: take your mind off the problem.\n",
    "+ If the computer does not want to work, don't force it! (T. Rauch, ~1990) (corollar to the pearl before)\n",
    "\n",
    "  (Translated from German \"Wenn er nicht will, dann will er nicht!\")\n",
    "\n",
    "+ Don't belief that programs are well tested. Usually, only the default settings of the input parameters work. (T. Rauch, ~1990)"
   ]
  },
  {
   "cell_type": "markdown",
   "metadata": {},
   "source": [
    "## If still questions are left open, here is: *The Zen of Python*"
   ]
  },
  {
   "cell_type": "markdown",
   "metadata": {},
   "source": [
    "A text on the philosophy of programming is built right into your python interpreter:"
   ]
  },
  {
   "cell_type": "code",
   "execution_count": 1,
   "metadata": {},
   "outputs": [
    {
     "name": "stdout",
     "output_type": "stream",
     "text": [
      "The Zen of Python, by Tim Peters\n",
      "\n",
      "Beautiful is better than ugly.\n",
      "Explicit is better than implicit.\n",
      "Simple is better than complex.\n",
      "Complex is better than complicated.\n",
      "Flat is better than nested.\n",
      "Sparse is better than dense.\n",
      "Readability counts.\n",
      "Special cases aren't special enough to break the rules.\n",
      "Although practicality beats purity.\n",
      "Errors should never pass silently.\n",
      "Unless explicitly silenced.\n",
      "In the face of ambiguity, refuse the temptation to guess.\n",
      "There should be one-- and preferably only one --obvious way to do it.\n",
      "Although that way may not be obvious at first unless you're Dutch.\n",
      "Now is better than never.\n",
      "Although never is often better than *right* now.\n",
      "If the implementation is hard to explain, it's a bad idea.\n",
      "If the implementation is easy to explain, it may be a good idea.\n",
      "Namespaces are one honking great idea -- let's do more of those!\n"
     ]
    }
   ],
   "source": [
    "import this"
   ]
  }
 ],
 "metadata": {
  "anaconda-cloud": {},
  "kernelspec": {
   "display_name": "Python 3",
   "language": "python",
   "name": "python3"
  },
  "language_info": {
   "codemirror_mode": {
    "name": "ipython",
    "version": 3
   },
   "file_extension": ".py",
   "mimetype": "text/x-python",
   "name": "python",
   "nbconvert_exporter": "python",
   "pygments_lexer": "ipython3",
   "version": "3.6.12"
  }
 },
 "nbformat": 4,
 "nbformat_minor": 1
}
