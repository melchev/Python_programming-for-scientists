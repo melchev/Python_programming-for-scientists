{
 "cells": [
  {
   "cell_type": "markdown",
   "metadata": {},
   "source": [
    "Accessing Remote Resources\n",
    "=========================="
   ]
  },
  {
   "cell_type": "markdown",
   "metadata": {},
   "source": [
    "APIs\n",
    "----\n",
    "\n",
    "Imagine that you want to access some data online. \n",
    "A number of websites now offer an \"Application programming interface\" (or API) which is basically a way of accessing data is a machine-readable way. \n",
    "An example for weather data is http://openweathermap.org/API \n",
    "\n",
    "Let's however take an example from theoretical Astrophysics, which is the\n",
    "[Illustris simulation](http://www.illustris-project.org). *The routines we use below are presented and described on their web page.*\n",
    "\n",
    "Illustris is a cosmological simulation. It traces the positions and the formation of components such as dark matter, gas and stars across cosmic time from high-redshift to today. Extracting data at various cosmic times (=redshifts $z$), one can study, for instance, the gravitational collapse and merging history of galaxies and clusters of galaxies.\n",
    "\n",
    "We show here how to extract the dark matter particles inside haloes you can pick from the\n",
    "[illustris explorer](http://www.illustris-project.org/explorer) tool.\n",
    "\n",
    "Once we have picked a halo ID, we can download the data. For the access, we need the access key.\n",
    "This was generated for the use by this course (normally, every user has their own key.)"
   ]
  },
  {
   "cell_type": "code",
   "execution_count": null,
   "metadata": {},
   "outputs": [],
   "source": [
    "headers={\"api-key\":\"8a8338834d046c14e6d8c15c24f70dda\"} # 8a833... = key for Uni HD python course"
   ]
  },
  {
   "cell_type": "code",
   "execution_count": null,
   "metadata": {},
   "outputs": [],
   "source": [
    "import requests\n",
    "import numpy as np\n",
    "import matplotlib.pyplot as plt\n",
    "%matplotlib inline\n",
    "\n",
    "r = requests.get('http://www.illustris-project.org/api/', headers=headers)\n",
    "print (r.text[:400])"
   ]
  },
  {
   "cell_type": "markdown",
   "metadata": {},
   "source": [
    "This is much shorter, but still not ideal for reading into Python in this form. The output details the available simulations and the number of snapshots in a format called **JSON (\"JavaScript Object Notation\")**. Python includes a library to easily read in this data:"
   ]
  },
  {
   "cell_type": "code",
   "execution_count": null,
   "metadata": {},
   "outputs": [],
   "source": [
    "import json\n",
    "data = json.loads(r.text)"
   ]
  },
  {
   "cell_type": "code",
   "execution_count": null,
   "metadata": {},
   "outputs": [],
   "source": [
    "data"
   ]
  },
  {
   "cell_type": "markdown",
   "metadata": {},
   "source": [
    "In fact, such a dictionary can be obtained at every level in the data tree (try, e.g., the next one http://www.illustris-project.org/api/Illustris-1/ )"
   ]
  },
  {
   "cell_type": "markdown",
   "metadata": {},
   "source": [
    "Now is the time to go to the Explorer and pick a (preferably massive) halo. Take note of the ID.\n",
    "\n",
    "Note that some haloes are situated at the boundary, make sure the object can be easily extracted.\n",
    "\n",
    "Specifications of data fields can be found [here](http://www.illustris-project.org/data/docs/specifications/)."
   ]
  },
  {
   "cell_type": "code",
   "execution_count": null,
   "metadata": {},
   "outputs": [],
   "source": [
    "id = 75               # choose your ID of the halo    75?   default=1030\n",
    "redshift = 0.5          # choose a redshift, will be converted to snapshot automatically.\n",
    "params = {'dm':'Coordinates'}\n",
    "\n",
    "url = \"http://www.illustris-project.org/api/Illustris-1/snapshots/z=\" + str(redshift) + \"/subhalos/\" + str(id)\n",
    "\n",
    "# read the parameters of the subhalo in the json format\n",
    "subhalo = requests.get(url, headers=headers).json()\n",
    "print(subhalo)\n",
    "\n",
    "# read the cutout of the subhalo into memory\n",
    "cutout  = requests.get(url+\"/cutout.hdf5\", headers=headers, params=params)\n",
    "\n",
    "# extract the filename from the header information and build the output name\n",
    "filename= cutout.headers['content-disposition'].split(\"filename=\")[1]\n",
    "outname=filename.split(\".hdf5\")[0]+\"_z=\"+str(redshift)+\".hdf5\"\n",
    "\n",
    "# save the cutout to disk, use 'outname'\n",
    "with open(outname, 'wb') as f:\n",
    "    f.write(cutout.content)"
   ]
  },
  {
   "cell_type": "markdown",
   "metadata": {},
   "source": [
    "The variable subhalo is a dictionary:"
   ]
  },
  {
   "cell_type": "code",
   "execution_count": null,
   "metadata": {},
   "outputs": [],
   "source": [
    "subhalo['mass_log_msun']"
   ]
  },
  {
   "cell_type": "markdown",
   "metadata": {},
   "source": [
    "The illustris data are in the [hdf5](https://support.hdfgroup.org/HDF5/) format. We need to write them to disk and\n",
    "reload them. For this, we need to import the h5py package and read the file using *h5py.File*\n",
    "\n",
    "The result is again a dictionary. We are here interested in the PartType1 key (dark matter), in particular the Coordinates."
   ]
  },
  {
   "cell_type": "code",
   "execution_count": null,
   "metadata": {},
   "outputs": [],
   "source": [
    "import h5py\n",
    "\n",
    "with h5py.File(outname) as f:\n",
    "    # we subtract the centre of the halo (extracted from the dictionary information in subhalo)\n",
    "    # from the particle coordinates\n",
    "    dx = f['PartType1']['Coordinates'][:,0] - subhalo['pos_x']\n",
    "    dy = f['PartType1']['Coordinates'][:,1] - subhalo['pos_y']\n",
    "    dz = f['PartType1']['Coordinates'][:,2] - subhalo['pos_z']\n",
    "\n",
    "import matplotlib.pylab as plt\n",
    "plt.plot(dx,dy,'.')"
   ]
  },
  {
   "cell_type": "markdown",
   "metadata": {},
   "source": [
    "## Exercise\n",
    "\n",
    "Consider subhalo 75 or 1030 (choose) at the three redshifts z=0 (snapshot 135), z=0.5 (snapshot 103) and z=1 (snapshot 85).\n",
    "\n",
    "1. Look at the distribution of the dark matter particles.\n",
    "   Determine the total dark matter mass inside R=1 Mpc (ignore here the redshift and Hubble constant scaling of these units).\n",
    "\n",
    "2. Determine the \n",
    "   density profiles $\\rho = \\frac{d N}{dV}$ for the halo at these three redshifts.\n",
    "   $dN$ is the number of objects in the Volume $dV$.\n",
    "   Remember: *plt.hist* can be used to build histograms.\n",
    "\n",
    "   Can you find a redshift dependence?\n",
    "   \n",
    "3. (with time) Fit the functional form\n",
    "\n",
    "    $\\rho(r)=\\frac{A}{\\frac{r}{r_s} (1+\\frac{r}{r_s})^n}$\n",
    "\n",
    "   with n=3 or n=4 to the density profiles. Choose \"sensible\" fitting intervals.\n"
   ]
  },
  {
   "cell_type": "markdown",
   "metadata": {},
   "source": [
    "\n",
    "\n",
    "\n",
    "\n"
   ]
  },
  {
   "cell_type": "markdown",
   "metadata": {},
   "source": [
    "**Note:** To simplify things, the following function was provided by the illustris project.\n",
    "\n",
    "It takes a path (such as 'url' above) and returns either the header information, or downloads binary data and returns the file name.\n",
    "\n",
    "(from the illustris documentation [here](http://www.illustris-project.org/data/docs/api/) )"
   ]
  },
  {
   "cell_type": "code",
   "execution_count": null,
   "metadata": {},
   "outputs": [],
   "source": [
    "def get(path, params=None):\n",
    "    # make HTTP GET request to path\n",
    "    headers = {\"api-key\":\"8a8338834d046c14e6d8c15c24f70dda\"}\n",
    "    r = requests.get(path, params=params, headers=headers)\n",
    "\n",
    "    # raise exception if response code is not HTTP SUCCESS (200)\n",
    "    r.raise_for_status()\n",
    "\n",
    "    if r.headers['content-type'] == 'application/json':\n",
    "        return r.json() # parse json responses automatically\n",
    "\n",
    "    if 'content-disposition' in r.headers:\n",
    "        filename = r.headers['content-disposition'].split(\"filename=\")[1]\n",
    "        with open(filename, 'wb') as f:\n",
    "            f.write(r.content)\n",
    "        return filename # return the filename string\n",
    "\n",
    "    return r"
   ]
  },
  {
   "cell_type": "markdown",
   "metadata": {},
   "source": [
    " "
   ]
  },
  {
   "cell_type": "markdown",
   "metadata": {},
   "source": [
    "Here is an **example** how the function **get(path)** can be used:"
   ]
  },
  {
   "cell_type": "code",
   "execution_count": null,
   "metadata": {},
   "outputs": [],
   "source": [
    "id = 75\n",
    "snapshot = [85,103,135]\n",
    "\n",
    "def getsnapshot(id,snap):\n",
    "    params = {'dm':'Coordinates'}\n",
    "    url = \"http://www.illustris-project.org/api/Illustris-1/snapshots/\" + str(snap) + \"/subhalos/\" + str(id)\n",
    "    sub = get(url)                                    # get json response of subhalo properties\n",
    "    return sub,get(url + \"/cutout.hdf5\",params) # get and save HDF5 cutout file\n",
    "\n",
    "sub,saved_filename = getsnapshot(id,snapshot[1])\n",
    "with h5py.File(saved_filename) as f:              # read coordinates\n",
    "    dx = f['PartType1']['Coordinates'][:,0] - sub['pos_x']\n",
    "    dy = f['PartType1']['Coordinates'][:,1] - sub['pos_y']\n",
    "    dz = f['PartType1']['Coordinates'][:,2] - sub['pos_z']"
   ]
  }
 ],
 "metadata": {
  "anaconda-cloud": {},
  "kernelspec": {
   "display_name": "Python 3 (ipykernel)",
   "language": "python",
   "name": "python3"
  },
  "language_info": {
   "codemirror_mode": {
    "name": "ipython",
    "version": 3
   },
   "file_extension": ".py",
   "mimetype": "text/x-python",
   "name": "python",
   "nbconvert_exporter": "python",
   "pygments_lexer": "ipython3",
   "version": "3.9.13"
  }
 },
 "nbformat": 4,
 "nbformat_minor": 1
}
