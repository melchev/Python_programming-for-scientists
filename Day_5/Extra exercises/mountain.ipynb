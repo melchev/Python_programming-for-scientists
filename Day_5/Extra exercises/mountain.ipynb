{
 "cells": [
  {
   "cell_type": "markdown",
   "metadata": {},
   "source": [
    "# Making a 3-D model of Mt. Everest"
   ]
  },
  {
   "cell_type": "markdown",
   "metadata": {},
   "source": [
    "Download the elevation data from the following website:\n",
    "\n",
    "    http://www.viewfinderpanoramas.org/dem3h.html\n",
    "\n",
    "The area around Mt. Everest is found in the datafiles:\n",
    "\n",
    "    N27E086.hgt\n",
    "    N27E087.hgt\n",
    "    N28E086.hgt\n",
    "    N28E087.hgt\n",
    "\n",
    "which can be found in rows 26 and 27 and columns 86 and 87 in the\n",
    "big table on that website."
   ]
  },
  {
   "cell_type": "markdown",
   "metadata": {},
   "source": [
    "Now write a function that can read these data into a numpy array. Then write a function that can make a \"heatmap\" (image, where color = height) of this area. Plot this."
   ]
  },
  {
   "cell_type": "markdown",
   "metadata": {},
   "source": [
    "Next make a 3-D plot using the plot_surface() function of pyplot (or any other method of your choice), that you can rotate with the mouse."
   ]
  },
  {
   "cell_type": "code",
   "execution_count": null,
   "metadata": {},
   "outputs": [],
   "source": []
  }
 ],
 "metadata": {
  "kernelspec": {
   "display_name": "Python 3 (ipykernel)",
   "language": "python",
   "name": "python3"
  },
  "language_info": {
   "codemirror_mode": {
    "name": "ipython",
    "version": 3
   },
   "file_extension": ".py",
   "mimetype": "text/x-python",
   "name": "python",
   "nbconvert_exporter": "python",
   "pygments_lexer": "ipython3",
   "version": "3.9.13"
  }
 },
 "nbformat": 4,
 "nbformat_minor": 2
}
