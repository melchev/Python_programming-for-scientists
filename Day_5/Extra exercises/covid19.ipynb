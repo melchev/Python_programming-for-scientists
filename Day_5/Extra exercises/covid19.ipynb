{
 "cells": [
  {
   "cell_type": "markdown",
   "metadata": {},
   "source": [
    "Simple epidemiological model of Covid-19\n",
    "=============\n",
    "\n",
    "As we have seen during the Covid-19 crisis, model predictions of the case numbers are notoriously difficult to make. This is not because the mathematics of infectuous diseases is difficult. The reason why these predictions are so hard is that the models are entirely dependent on the model parameters such as how many contacts people have, where they have them, if they wear masks, and what effect these have on the infection rate. All these unknowns eventually boil down to one single parameter: the infamous basic reproduction number $R_0$ parameter. Of course, it is a bit more complex than that, as one should distinguish between different kinds of groups with different $R_0$. But in its simplest form, an epidemic is driven by the $R_0$ parameter.\n",
    "\n",
    "The SIR model\n",
    "----------\n",
    "\n",
    "The simplest epidemic model was formulated more than 90 years ago by Kermack and McKendrick (1927). The idea is to divide the population up into three compartiments (groups): The \"S\" compartiment for the \"susceptibles\" (those people who are not yet infected), the \"I\" compartiment for the \"infectuous\" (those people who are ill and can transmit the disease) and the \"R\" compartiment for the \"removed\" (those people who are cured or died, but in either case no longer participate in the infectuous dynamics, hence \"removed\"). This is called the _SIR model_. If we normalize the full population to 1, then \n",
    "\n",
    "$$S+I+R=1$$\n",
    "\n",
    "We usually start with a small fraction of the population infected (for instance $I\\simeq 10^{-3}$) and nobody removed yet ($R=0$). The rest is susceptible ($S=1-I-R=0.999$). The time-evolution of the SIR model is as follows:\n",
    "\n",
    "$$\n",
    "\\begin{split}\n",
    "\\frac{dS}{dt} &= -\\beta\\,S\\,I\\\\\n",
    "\\frac{dI}{dt} &= \\beta\\,S\\,I-\\gamma I\\\\\n",
    "\\frac{dR}{dt} &= \\gamma I\n",
    "\\end{split}\n",
    "$$\n",
    "\n",
    "The parameters $\\beta$ and $\\gamma$ can be computed from the more familiar parameters $R_0$ (the basic reproduction number) and $t_g$ (the so-called _generation time_). The generation time is the mean time between successive infections. From these two parameters one can compute the exponential growth time scale $t_e$:\n",
    "\n",
    "$$t_e = \\frac{t_g}{\\ln(R_0)}$$\n",
    "\n",
    "The parameters $\\beta$ and $\\gamma$ then follow from:\n",
    "\n",
    "$$\n",
    "\\begin{split}\n",
    "\\gamma &= \\frac{1}{(R_0-1)t_e}\\\\\n",
    "\\beta  &= \\gamma R_0\n",
    "\\end{split}\n",
    "$$\n",
    "\n",
    "Applying the SIR model to Covid-19 in Germany\n",
    "------------------------\n",
    "\n",
    "According to the Robert Koch Institute, for Covid-19 the generation time is $t_g=4$ days. During the October/November 2020 surge the value of $R_0=1.3$. Let us assume that we start with $I=10^{-3}$ and $R=0$ and $S=1-I-R$. \n",
    "\n",
    "Write a Python program that computes the epidemic dynamics of Covid-19 if no counter-measures were taken, i.e.\\ keeping $R_0$ the same over time. Plot the result for a period of 6 months, where you plot in a single figure all three quantities. Label them with \"S\", \"I\" and \"R\" and provide a legend for easy identification of the three curves. To be able to see the solution better, make the y-axis logarithmic, but set the minimum scale to $10^{-3}$ (what would happen if you don't set this minimum value?). "
   ]
  },
  {
   "cell_type": "code",
   "execution_count": 1,
   "metadata": {},
   "outputs": [],
   "source": [
    "\n",
    "# Your solution here\n"
   ]
  },
  {
   "cell_type": "markdown",
   "metadata": {},
   "source": [
    "With this model, answer the following questions:\n",
    "\n",
    "- Germany has 80 Million people. At the peak of the epidemic, how many people would be ill? \n",
    "\n",
    "- After everything is over, how many people would have contracted the disease?\n",
    "\n",
    "- How many people have to be vaccinated to avoid the run-away?\n",
    "\n",
    "- If nobody is vaccinated, but somehow the disease gets 50% _less_ contageous (e.g. due to behavioral changes in the population), what happens?"
   ]
  },
  {
   "cell_type": "code",
   "execution_count": 3,
   "metadata": {},
   "outputs": [],
   "source": [
    "# Your answers here"
   ]
  },
  {
   "cell_type": "markdown",
   "metadata": {},
   "source": [
    "The number of infected persons starts decreasing when ${dI}/{dt} < 0$. By replacing in the equations above, this happens when $S<1/R_0$.\n",
    "\n",
    "If the fraction of the population that is vaccinated (and therefore removed) at $t=0$ is equal to $1-1/R_0$ there will be no run-away effect."
   ]
  },
  {
   "cell_type": "code",
   "execution_count": 4,
   "metadata": {},
   "outputs": [],
   "source": [
    "# Your answers here"
   ]
  },
  {
   "cell_type": "markdown",
   "metadata": {},
   "source": [
    "If noody get vaccinated but the disease is 50% less contagious:"
   ]
  },
  {
   "cell_type": "code",
   "execution_count": 5,
   "metadata": {},
   "outputs": [],
   "source": [
    "# Your answers here"
   ]
  },
  {
   "cell_type": "markdown",
   "metadata": {},
   "source": [
    "If the disease gets less contagious (to the point that $R_0$ drops below 1) the numbers of infected people decreases."
   ]
  }
 ],
 "metadata": {
  "kernelspec": {
   "display_name": "Python 3 (ipykernel)",
   "language": "python",
   "name": "python3"
  },
  "language_info": {
   "codemirror_mode": {
    "name": "ipython",
    "version": 3
   },
   "file_extension": ".py",
   "mimetype": "text/x-python",
   "name": "python",
   "nbconvert_exporter": "python",
   "pygments_lexer": "ipython3",
   "version": "3.9.13"
  }
 },
 "nbformat": 4,
 "nbformat_minor": 2
}
